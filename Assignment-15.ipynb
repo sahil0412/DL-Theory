{
 "cells": [
  {
   "cell_type": "markdown",
   "id": "06f10b11-8e8d-4a78-af31-42d3d40bacc8",
   "metadata": {
    "id": "06f10b11-8e8d-4a78-af31-42d3d40bacc8"
   },
   "source": [
    "# Assignment 15 Solution"
   ]
  },
  {
   "cell_type": "markdown",
   "id": "73a21c29-a4db-4658-8de9-2c72461044d3",
   "metadata": {
    "id": "73a21c29-a4db-4658-8de9-2c72461044d3"
   },
   "source": [
    "**1. Deep Learning.**\n",
    "\n",
    "**a. Build a DNN with five hidden layers of 100 neurons each, He initialization, and the ELU activation function.**\n",
    "\n",
    "**b. Using Adam optimization and early stopping, try training it on MNIST but only on digits 0 to 4, as we will use transfer learning for digits 5 to 9 in the next exercise. You will need a softmax output layer with five neurons, and as always make sure to save checkpoints at regular intervals and save the final model so you can reuse it later.**\n",
    "\n",
    "**c. Tune the hyperparameters using cross-validation and see what precision you can achieve.**\n",
    "\n",
    "**d. Now try adding Batch Normalization and compare the learning curves: is it converging faster than before? Does it produce a better model?**\n",
    "\n",
    "**e. Is the model overfitting the training set? Try adding dropout to every layer and try\n",
    "again. Does it help?**"
   ]
  },
  {
   "cell_type": "markdown",
   "id": "a1a9a270-ea46-4c60-8d8d-38aa0da2b373",
   "metadata": {
    "id": "a1a9a270-ea46-4c60-8d8d-38aa0da2b373"
   },
   "source": [
    "**Ans:** **a. Build a DNN with five hidden layers of 100 neurons each, He initialization, and the ELU activation function.**"
   ]
  },
  {
   "cell_type": "code",
   "execution_count": 24,
   "id": "28caf7ae-bc6d-4a5d-a791-d4bf2ff38077",
   "metadata": {},
   "outputs": [
    {
     "name": "stderr",
     "output_type": "stream",
     "text": [
      "E:\\anacondaInstalledHere\\Lib\\site-packages\\keras\\src\\layers\\core\\dense.py:87: UserWarning: Do not pass an `input_shape`/`input_dim` argument to a layer. When using Sequential models, prefer using an `Input(shape)` object as the first layer in the model instead.\n",
      "  super().__init__(activity_regularizer=activity_regularizer, **kwargs)\n"
     ]
    },
    {
     "data": {
      "text/html": [
       "<pre style=\"white-space:pre;overflow-x:auto;line-height:normal;font-family:Menlo,'DejaVu Sans Mono',consolas,'Courier New',monospace\"><span style=\"font-weight: bold\">Model: \"sequential_2\"</span>\n",
       "</pre>\n"
      ],
      "text/plain": [
       "\u001b[1mModel: \"sequential_2\"\u001b[0m\n"
      ]
     },
     "metadata": {},
     "output_type": "display_data"
    },
    {
     "data": {
      "text/html": [
       "<pre style=\"white-space:pre;overflow-x:auto;line-height:normal;font-family:Menlo,'DejaVu Sans Mono',consolas,'Courier New',monospace\">┏━━━━━━━━━━━━━━━━━━━━━━━━━━━━━━━━━━━━━━┳━━━━━━━━━━━━━━━━━━━━━━━━━━━━━┳━━━━━━━━━━━━━━━━━┓\n",
       "┃<span style=\"font-weight: bold\"> Layer (type)                         </span>┃<span style=\"font-weight: bold\"> Output Shape                </span>┃<span style=\"font-weight: bold\">         Param # </span>┃\n",
       "┡━━━━━━━━━━━━━━━━━━━━━━━━━━━━━━━━━━━━━━╇━━━━━━━━━━━━━━━━━━━━━━━━━━━━━╇━━━━━━━━━━━━━━━━━┩\n",
       "│ dense_9 (<span style=\"color: #0087ff; text-decoration-color: #0087ff\">Dense</span>)                      │ (<span style=\"color: #00d7ff; text-decoration-color: #00d7ff\">None</span>, <span style=\"color: #00af00; text-decoration-color: #00af00\">100</span>)                 │          <span style=\"color: #00af00; text-decoration-color: #00af00\">78,500</span> │\n",
       "├──────────────────────────────────────┼─────────────────────────────┼─────────────────┤\n",
       "│ dense_10 (<span style=\"color: #0087ff; text-decoration-color: #0087ff\">Dense</span>)                     │ (<span style=\"color: #00d7ff; text-decoration-color: #00d7ff\">None</span>, <span style=\"color: #00af00; text-decoration-color: #00af00\">100</span>)                 │          <span style=\"color: #00af00; text-decoration-color: #00af00\">10,100</span> │\n",
       "├──────────────────────────────────────┼─────────────────────────────┼─────────────────┤\n",
       "│ dense_11 (<span style=\"color: #0087ff; text-decoration-color: #0087ff\">Dense</span>)                     │ (<span style=\"color: #00d7ff; text-decoration-color: #00d7ff\">None</span>, <span style=\"color: #00af00; text-decoration-color: #00af00\">100</span>)                 │          <span style=\"color: #00af00; text-decoration-color: #00af00\">10,100</span> │\n",
       "├──────────────────────────────────────┼─────────────────────────────┼─────────────────┤\n",
       "│ dense_12 (<span style=\"color: #0087ff; text-decoration-color: #0087ff\">Dense</span>)                     │ (<span style=\"color: #00d7ff; text-decoration-color: #00d7ff\">None</span>, <span style=\"color: #00af00; text-decoration-color: #00af00\">100</span>)                 │          <span style=\"color: #00af00; text-decoration-color: #00af00\">10,100</span> │\n",
       "├──────────────────────────────────────┼─────────────────────────────┼─────────────────┤\n",
       "│ dense_13 (<span style=\"color: #0087ff; text-decoration-color: #0087ff\">Dense</span>)                     │ (<span style=\"color: #00d7ff; text-decoration-color: #00d7ff\">None</span>, <span style=\"color: #00af00; text-decoration-color: #00af00\">100</span>)                 │          <span style=\"color: #00af00; text-decoration-color: #00af00\">10,100</span> │\n",
       "├──────────────────────────────────────┼─────────────────────────────┼─────────────────┤\n",
       "│ dense_14 (<span style=\"color: #0087ff; text-decoration-color: #0087ff\">Dense</span>)                     │ (<span style=\"color: #00d7ff; text-decoration-color: #00d7ff\">None</span>, <span style=\"color: #00af00; text-decoration-color: #00af00\">10</span>)                  │           <span style=\"color: #00af00; text-decoration-color: #00af00\">1,010</span> │\n",
       "└──────────────────────────────────────┴─────────────────────────────┴─────────────────┘\n",
       "</pre>\n"
      ],
      "text/plain": [
       "┏━━━━━━━━━━━━━━━━━━━━━━━━━━━━━━━━━━━━━━┳━━━━━━━━━━━━━━━━━━━━━━━━━━━━━┳━━━━━━━━━━━━━━━━━┓\n",
       "┃\u001b[1m \u001b[0m\u001b[1mLayer (type)                        \u001b[0m\u001b[1m \u001b[0m┃\u001b[1m \u001b[0m\u001b[1mOutput Shape               \u001b[0m\u001b[1m \u001b[0m┃\u001b[1m \u001b[0m\u001b[1m        Param #\u001b[0m\u001b[1m \u001b[0m┃\n",
       "┡━━━━━━━━━━━━━━━━━━━━━━━━━━━━━━━━━━━━━━╇━━━━━━━━━━━━━━━━━━━━━━━━━━━━━╇━━━━━━━━━━━━━━━━━┩\n",
       "│ dense_9 (\u001b[38;5;33mDense\u001b[0m)                      │ (\u001b[38;5;45mNone\u001b[0m, \u001b[38;5;34m100\u001b[0m)                 │          \u001b[38;5;34m78,500\u001b[0m │\n",
       "├──────────────────────────────────────┼─────────────────────────────┼─────────────────┤\n",
       "│ dense_10 (\u001b[38;5;33mDense\u001b[0m)                     │ (\u001b[38;5;45mNone\u001b[0m, \u001b[38;5;34m100\u001b[0m)                 │          \u001b[38;5;34m10,100\u001b[0m │\n",
       "├──────────────────────────────────────┼─────────────────────────────┼─────────────────┤\n",
       "│ dense_11 (\u001b[38;5;33mDense\u001b[0m)                     │ (\u001b[38;5;45mNone\u001b[0m, \u001b[38;5;34m100\u001b[0m)                 │          \u001b[38;5;34m10,100\u001b[0m │\n",
       "├──────────────────────────────────────┼─────────────────────────────┼─────────────────┤\n",
       "│ dense_12 (\u001b[38;5;33mDense\u001b[0m)                     │ (\u001b[38;5;45mNone\u001b[0m, \u001b[38;5;34m100\u001b[0m)                 │          \u001b[38;5;34m10,100\u001b[0m │\n",
       "├──────────────────────────────────────┼─────────────────────────────┼─────────────────┤\n",
       "│ dense_13 (\u001b[38;5;33mDense\u001b[0m)                     │ (\u001b[38;5;45mNone\u001b[0m, \u001b[38;5;34m100\u001b[0m)                 │          \u001b[38;5;34m10,100\u001b[0m │\n",
       "├──────────────────────────────────────┼─────────────────────────────┼─────────────────┤\n",
       "│ dense_14 (\u001b[38;5;33mDense\u001b[0m)                     │ (\u001b[38;5;45mNone\u001b[0m, \u001b[38;5;34m10\u001b[0m)                  │           \u001b[38;5;34m1,010\u001b[0m │\n",
       "└──────────────────────────────────────┴─────────────────────────────┴─────────────────┘\n"
      ]
     },
     "metadata": {},
     "output_type": "display_data"
    },
    {
     "data": {
      "text/html": [
       "<pre style=\"white-space:pre;overflow-x:auto;line-height:normal;font-family:Menlo,'DejaVu Sans Mono',consolas,'Courier New',monospace\"><span style=\"font-weight: bold\"> Total params: </span><span style=\"color: #00af00; text-decoration-color: #00af00\">119,910</span> (468.40 KB)\n",
       "</pre>\n"
      ],
      "text/plain": [
       "\u001b[1m Total params: \u001b[0m\u001b[38;5;34m119,910\u001b[0m (468.40 KB)\n"
      ]
     },
     "metadata": {},
     "output_type": "display_data"
    },
    {
     "data": {
      "text/html": [
       "<pre style=\"white-space:pre;overflow-x:auto;line-height:normal;font-family:Menlo,'DejaVu Sans Mono',consolas,'Courier New',monospace\"><span style=\"font-weight: bold\"> Trainable params: </span><span style=\"color: #00af00; text-decoration-color: #00af00\">119,910</span> (468.40 KB)\n",
       "</pre>\n"
      ],
      "text/plain": [
       "\u001b[1m Trainable params: \u001b[0m\u001b[38;5;34m119,910\u001b[0m (468.40 KB)\n"
      ]
     },
     "metadata": {},
     "output_type": "display_data"
    },
    {
     "data": {
      "text/html": [
       "<pre style=\"white-space:pre;overflow-x:auto;line-height:normal;font-family:Menlo,'DejaVu Sans Mono',consolas,'Courier New',monospace\"><span style=\"font-weight: bold\"> Non-trainable params: </span><span style=\"color: #00af00; text-decoration-color: #00af00\">0</span> (0.00 B)\n",
       "</pre>\n"
      ],
      "text/plain": [
       "\u001b[1m Non-trainable params: \u001b[0m\u001b[38;5;34m0\u001b[0m (0.00 B)\n"
      ]
     },
     "metadata": {},
     "output_type": "display_data"
    }
   ],
   "source": [
    "import tensorflow as tf\n",
    "from tensorflow.keras.models import Sequential\n",
    "from tensorflow.keras.layers import Dense\n",
    "from tensorflow.keras.initializers import HeNormal\n",
    "\n",
    "# Define the model\n",
    "model = Sequential()\n",
    "\n",
    "# Add the first hidden layer with He initialization and ELU activation\n",
    "model.add(Dense(100, activation='elu', kernel_initializer=HeNormal(), input_shape=(784,)))\n",
    "\n",
    "# Add four more hidden layers with He initialization and ELU activation\n",
    "for _ in range(4):\n",
    "    model.add(Dense(100, activation='elu', kernel_initializer=HeNormal()))\n",
    "\n",
    "# Add the output layer\n",
    "model.add(Dense(10, activation='softmax'))\n",
    "\n",
    "# Compile the model\n",
    "model.compile(optimizer='adam',\n",
    "              loss='sparse_categorical_crossentropy',\n",
    "              metrics=['accuracy'])\n",
    "\n",
    "# Display the model summary\n",
    "model.summary()\n"
   ]
  },
  {
   "cell_type": "markdown",
   "id": "QRneWrfvBC70",
   "metadata": {
    "id": "QRneWrfvBC70"
   },
   "source": [
    "**b. Using Adam optimization and early stopping, try training it on MNIST but only on digits 0 to 4, as we will use transfer learning for digits 5 to 9 in the next exercise. You will need a softmax output layer with five neurons, and as always make sure to save checkpoints at regular intervals and save the final model so you can reuse it later.**\n",
    "\n",
    "**Ans:**"
   ]
  },
  {
   "cell_type": "code",
   "execution_count": 26,
   "id": "278b4d2f-b6cc-4d56-b081-55705c76760b",
   "metadata": {},
   "outputs": [
    {
     "name": "stdout",
     "output_type": "stream",
     "text": [
      "Epoch 1/10\n",
      "\u001b[1m954/957\u001b[0m \u001b[32m━━━━━━━━━━━━━━━━━━━\u001b[0m\u001b[37m━\u001b[0m \u001b[1m0s\u001b[0m 3ms/step - accuracy: 0.9437 - loss: 0.1759\n",
      "Epoch 1: val_loss improved from inf to 0.04262, saving model to training_checkpoints/cp-0001.weights.h5\n",
      "\u001b[1m957/957\u001b[0m \u001b[32m━━━━━━━━━━━━━━━━━━━━\u001b[0m\u001b[37m\u001b[0m \u001b[1m5s\u001b[0m 4ms/step - accuracy: 0.9438 - loss: 0.1756 - val_accuracy: 0.9866 - val_loss: 0.0426\n",
      "Epoch 2/10\n",
      "\u001b[1m944/957\u001b[0m \u001b[32m━━━━━━━━━━━━━━━━━━━\u001b[0m\u001b[37m━\u001b[0m \u001b[1m0s\u001b[0m 3ms/step - accuracy: 0.9839 - loss: 0.0531\n",
      "Epoch 2: val_loss improved from 0.04262 to 0.02968, saving model to training_checkpoints/cp-0002.weights.h5\n",
      "\u001b[1m957/957\u001b[0m \u001b[32m━━━━━━━━━━━━━━━━━━━━\u001b[0m\u001b[37m\u001b[0m \u001b[1m3s\u001b[0m 3ms/step - accuracy: 0.9838 - loss: 0.0531 - val_accuracy: 0.9901 - val_loss: 0.0297\n",
      "Epoch 3/10\n",
      "\u001b[1m942/957\u001b[0m \u001b[32m━━━━━━━━━━━━━━━━━━━\u001b[0m\u001b[37m━\u001b[0m \u001b[1m0s\u001b[0m 3ms/step - accuracy: 0.9896 - loss: 0.0327\n",
      "Epoch 3: val_loss did not improve from 0.02968\n",
      "\u001b[1m957/957\u001b[0m \u001b[32m━━━━━━━━━━━━━━━━━━━━\u001b[0m\u001b[37m\u001b[0m \u001b[1m3s\u001b[0m 3ms/step - accuracy: 0.9895 - loss: 0.0327 - val_accuracy: 0.9891 - val_loss: 0.0346\n",
      "Epoch 4/10\n",
      "\u001b[1m952/957\u001b[0m \u001b[32m━━━━━━━━━━━━━━━━━━━\u001b[0m\u001b[37m━\u001b[0m \u001b[1m0s\u001b[0m 3ms/step - accuracy: 0.9892 - loss: 0.0307\n",
      "Epoch 4: val_loss did not improve from 0.02968\n",
      "\u001b[1m957/957\u001b[0m \u001b[32m━━━━━━━━━━━━━━━━━━━━\u001b[0m\u001b[37m\u001b[0m \u001b[1m3s\u001b[0m 3ms/step - accuracy: 0.9892 - loss: 0.0307 - val_accuracy: 0.9899 - val_loss: 0.0302\n",
      "Epoch 5/10\n",
      "\u001b[1m940/957\u001b[0m \u001b[32m━━━━━━━━━━━━━━━━━━━\u001b[0m\u001b[37m━\u001b[0m \u001b[1m0s\u001b[0m 3ms/step - accuracy: 0.9920 - loss: 0.0226\n",
      "Epoch 5: val_loss did not improve from 0.02968\n",
      "\u001b[1m957/957\u001b[0m \u001b[32m━━━━━━━━━━━━━━━━━━━━\u001b[0m\u001b[37m\u001b[0m \u001b[1m3s\u001b[0m 3ms/step - accuracy: 0.9920 - loss: 0.0227 - val_accuracy: 0.9909 - val_loss: 0.0338\n",
      "Epoch 6/10\n",
      "\u001b[1m957/957\u001b[0m \u001b[32m━━━━━━━━━━━━━━━━━━━━\u001b[0m\u001b[37m\u001b[0m \u001b[1m0s\u001b[0m 3ms/step - accuracy: 0.9943 - loss: 0.0190\n",
      "Epoch 6: val_loss did not improve from 0.02968\n",
      "\u001b[1m957/957\u001b[0m \u001b[32m━━━━━━━━━━━━━━━━━━━━\u001b[0m\u001b[37m\u001b[0m \u001b[1m3s\u001b[0m 3ms/step - accuracy: 0.9943 - loss: 0.0190 - val_accuracy: 0.9901 - val_loss: 0.0373\n",
      "Epoch 7/10\n",
      "\u001b[1m957/957\u001b[0m \u001b[32m━━━━━━━━━━━━━━━━━━━━\u001b[0m\u001b[37m\u001b[0m \u001b[1m0s\u001b[0m 3ms/step - accuracy: 0.9954 - loss: 0.0150\n",
      "Epoch 7: val_loss did not improve from 0.02968\n",
      "\u001b[1m957/957\u001b[0m \u001b[32m━━━━━━━━━━━━━━━━━━━━\u001b[0m\u001b[37m\u001b[0m \u001b[1m3s\u001b[0m 3ms/step - accuracy: 0.9953 - loss: 0.0150 - val_accuracy: 0.9848 - val_loss: 0.0464\n"
     ]
    },
    {
     "name": "stderr",
     "output_type": "stream",
     "text": [
      "WARNING:absl:You are saving your model as an HDF5 file via `model.save()` or `keras.saving.save_model(model)`. This file format is considered legacy. We recommend using instead the native Keras format, e.g. `model.save('my_model.keras')` or `keras.saving.save_model(model, 'my_model.keras')`. \n"
     ]
    }
   ],
   "source": [
    "import tensorflow as tf\n",
    "from tensorflow.keras.datasets import mnist\n",
    "from tensorflow.keras.models import Sequential\n",
    "from tensorflow.keras.layers import Dense\n",
    "from tensorflow.keras.callbacks import ModelCheckpoint, EarlyStopping\n",
    "import os\n",
    "\n",
    "# Load the MNIST dataset\n",
    "(x_train_full, y_train_full), (x_test, y_test) = mnist.load_data()\n",
    "\n",
    "# Filter digits 0 to 4\n",
    "train_mask = (y_train_full < 5)\n",
    "test_mask = (y_test < 5)\n",
    "x_train = x_train_full[train_mask]\n",
    "y_train = y_train_full[train_mask]\n",
    "x_test = x_test[test_mask]\n",
    "y_test = y_test[test_mask]\n",
    "\n",
    "# Preprocess the data\n",
    "x_train = x_train.reshape(-1, 28*28).astype('float32') / 255.0\n",
    "x_test = x_test.reshape(-1, 28*28).astype('float32') / 255.0\n",
    "\n",
    "# Define the model\n",
    "model = Sequential([\n",
    "    Dense(100, activation='elu', kernel_initializer='he_normal', input_shape=(784,)),\n",
    "    Dense(100, activation='elu', kernel_initializer='he_normal'),\n",
    "    Dense(100, activation='elu', kernel_initializer='he_normal'),\n",
    "    Dense(100, activation='elu', kernel_initializer='he_normal'),\n",
    "    Dense(100, activation='elu', kernel_initializer='he_normal'),\n",
    "    Dense(5, activation='softmax')\n",
    "])\n",
    "\n",
    "# Compile the model\n",
    "model.compile(optimizer='adam',\n",
    "              loss='sparse_categorical_crossentropy',\n",
    "              metrics=['accuracy'])\n",
    "\n",
    "# Define callbacks\n",
    "checkpoint_path = \"training_checkpoints/cp-{epoch:04d}.weights.h5\"\n",
    "checkpoint_dir = os.path.dirname(checkpoint_path)\n",
    "cp_callback = ModelCheckpoint(filepath=checkpoint_path,\n",
    "                              save_weights_only=True,\n",
    "                              save_best_only=True,\n",
    "                              verbose=1)\n",
    "early_stopping_callback = EarlyStopping(monitor='val_loss', patience=5)\n",
    "\n",
    "# Train the model\n",
    "history = model.fit(x_train, y_train,\n",
    "                    epochs=10,\n",
    "                    batch_size=32,\n",
    "                    validation_data=(x_test, y_test),\n",
    "                    callbacks=[cp_callback, early_stopping_callback])\n",
    "\n",
    "# Save the final model\n",
    "model.save(\"mnist_model_0_to_4.h5\")\n"
   ]
  },
  {
   "cell_type": "markdown",
   "id": "3sR7WOPGB4dX",
   "metadata": {
    "id": "3sR7WOPGB4dX"
   },
   "source": [
    "**c. Tune the hyperparameters using cross-validation and see what precision you can achieve.**\n",
    "\n",
    "**Ans:** "
   ]
  },
  {
   "cell_type": "code",
   "execution_count": 54,
   "id": "70020f34-463d-46f3-adfe-7cc18dbdff44",
   "metadata": {},
   "outputs": [
    {
     "name": "stdout",
     "output_type": "stream",
     "text": [
      "Training with params: {'activation': 'relu', 'hidden_layers': 3, 'optimizer': 'adam', 'units': 50}\n",
      "Validation accuracy: 0.9796052972475687\n",
      "Training with params: {'activation': 'relu', 'hidden_layers': 3, 'optimizer': 'adam', 'units': 100}\n",
      "Validation accuracy: 0.9870245456695557\n",
      "Training with params: {'activation': 'relu', 'hidden_layers': 3, 'optimizer': 'adam', 'units': 200}\n",
      "Validation accuracy: 0.9868283271789551\n",
      "Training with params: {'activation': 'relu', 'hidden_layers': 3, 'optimizer': 'rmsprop', 'units': 50}\n",
      "Validation accuracy: 0.9864361683527628\n",
      "Training with params: {'activation': 'relu', 'hidden_layers': 3, 'optimizer': 'rmsprop', 'units': 100}\n",
      "Validation accuracy: 0.9854884147644043\n",
      "Training with params: {'activation': 'relu', 'hidden_layers': 3, 'optimizer': 'rmsprop', 'units': 200}\n",
      "Validation accuracy: 0.9860438307126363\n",
      "Training with params: {'activation': 'relu', 'hidden_layers': 4, 'optimizer': 'adam', 'units': 50}\n",
      "Validation accuracy: 0.9843444426854452\n",
      "Training with params: {'activation': 'relu', 'hidden_layers': 4, 'optimizer': 'adam', 'units': 100}\n",
      "Validation accuracy: 0.9855536023775736\n",
      "Training with params: {'activation': 'relu', 'hidden_layers': 4, 'optimizer': 'adam', 'units': 200}\n",
      "Validation accuracy: 0.9877435564994812\n",
      "Training with params: {'activation': 'relu', 'hidden_layers': 4, 'optimizer': 'rmsprop', 'units': 50}\n",
      "Validation accuracy: 0.9846385518709818\n",
      "Training with params: {'activation': 'relu', 'hidden_layers': 4, 'optimizer': 'rmsprop', 'units': 100}\n",
      "Validation accuracy: 0.9840176105499268\n",
      "Training with params: {'activation': 'relu', 'hidden_layers': 4, 'optimizer': 'rmsprop', 'units': 200}\n",
      "Validation accuracy: 0.9884299039840698\n",
      "Training with params: {'activation': 'relu', 'hidden_layers': 5, 'optimizer': 'adam', 'units': 50}\n",
      "Validation accuracy: 0.9856517712275187\n",
      "Training with params: {'activation': 'relu', 'hidden_layers': 5, 'optimizer': 'adam', 'units': 100}\n",
      "Validation accuracy: 0.9865014553070068\n",
      "Training with params: {'activation': 'relu', 'hidden_layers': 5, 'optimizer': 'adam', 'units': 200}\n",
      "Validation accuracy: 0.9858478109041849\n",
      "Training with params: {'activation': 'relu', 'hidden_layers': 5, 'optimizer': 'rmsprop', 'units': 50}\n",
      "Validation accuracy: 0.9864361683527628\n",
      "Training with params: {'activation': 'relu', 'hidden_layers': 5, 'optimizer': 'rmsprop', 'units': 100}\n",
      "Validation accuracy: 0.9858805537223816\n",
      "Training with params: {'activation': 'relu', 'hidden_layers': 5, 'optimizer': 'rmsprop', 'units': 200}\n",
      "Validation accuracy: 0.9874494473139445\n",
      "Training with params: {'activation': 'elu', 'hidden_layers': 3, 'optimizer': 'adam', 'units': 50}\n",
      "Validation accuracy: 0.9832658569018046\n",
      "Training with params: {'activation': 'elu', 'hidden_layers': 3, 'optimizer': 'adam', 'units': 100}\n",
      "Validation accuracy: 0.9860766132672628\n",
      "Training with params: {'activation': 'elu', 'hidden_layers': 3, 'optimizer': 'adam', 'units': 200}\n",
      "Validation accuracy: 0.9864688714345297\n",
      "Training with params: {'activation': 'elu', 'hidden_layers': 3, 'optimizer': 'rmsprop', 'units': 50}\n",
      "Validation accuracy: 0.9875147342681885\n",
      "Training with params: {'activation': 'elu', 'hidden_layers': 3, 'optimizer': 'rmsprop', 'units': 100}\n",
      "Validation accuracy: 0.9881357351938883\n",
      "Training with params: {'activation': 'elu', 'hidden_layers': 3, 'optimizer': 'rmsprop', 'units': 200}\n",
      "Validation accuracy: 0.9846057891845703\n",
      "Training with params: {'activation': 'elu', 'hidden_layers': 4, 'optimizer': 'adam', 'units': 50}\n",
      "Validation accuracy: 0.9859459201494852\n",
      "Training with params: {'activation': 'elu', 'hidden_layers': 4, 'optimizer': 'adam', 'units': 100}\n",
      "Validation accuracy: 0.984344482421875\n",
      "Training with params: {'activation': 'elu', 'hidden_layers': 4, 'optimizer': 'adam', 'units': 200}\n",
      "Validation accuracy: 0.9835925300916036\n",
      "Training with params: {'activation': 'elu', 'hidden_layers': 4, 'optimizer': 'rmsprop', 'units': 50}\n",
      "Validation accuracy: 0.985325038433075\n",
      "Training with params: {'activation': 'elu', 'hidden_layers': 4, 'optimizer': 'rmsprop', 'units': 100}\n",
      "Validation accuracy: 0.9872206052144369\n",
      "Training with params: {'activation': 'elu', 'hidden_layers': 4, 'optimizer': 'rmsprop', 'units': 200}\n",
      "Validation accuracy: 0.9838541746139526\n",
      "Training with params: {'activation': 'elu', 'hidden_layers': 5, 'optimizer': 'adam', 'units': 50}\n",
      "Validation accuracy: 0.9855209787686666\n",
      "Training with params: {'activation': 'elu', 'hidden_layers': 5, 'optimizer': 'adam', 'units': 100}\n",
      "Validation accuracy: 0.9798341194788615\n",
      "Training with params: {'activation': 'elu', 'hidden_layers': 5, 'optimizer': 'adam', 'units': 200}\n",
      "Validation accuracy: 0.9836579958597819\n",
      "Training with params: {'activation': 'elu', 'hidden_layers': 5, 'optimizer': 'rmsprop', 'units': 50}\n",
      "Validation accuracy: 0.985619068145752\n",
      "Training with params: {'activation': 'elu', 'hidden_layers': 5, 'optimizer': 'rmsprop', 'units': 100}\n",
      "Validation accuracy: 0.9882664879163107\n",
      "Training with params: {'activation': 'elu', 'hidden_layers': 5, 'optimizer': 'rmsprop', 'units': 200}\n",
      "Validation accuracy: 0.986959179242452\n",
      "Best validation accuracy: 0.9884299039840698\n",
      "Best parameters: {'activation': 'relu', 'hidden_layers': 4, 'optimizer': 'rmsprop', 'units': 200}\n",
      "Epoch 1/5\n",
      "\u001b[1m957/957\u001b[0m \u001b[32m━━━━━━━━━━━━━━━━━━━━\u001b[0m\u001b[37m\u001b[0m \u001b[1m6s\u001b[0m 5ms/step - accuracy: 0.9429 - loss: 0.1752\n",
      "Epoch 2/5\n",
      "\u001b[1m957/957\u001b[0m \u001b[32m━━━━━━━━━━━━━━━━━━━━\u001b[0m\u001b[37m\u001b[0m \u001b[1m4s\u001b[0m 5ms/step - accuracy: 0.9862 - loss: 0.0506\n",
      "Epoch 3/5\n",
      "\u001b[1m957/957\u001b[0m \u001b[32m━━━━━━━━━━━━━━━━━━━━\u001b[0m\u001b[37m\u001b[0m \u001b[1m5s\u001b[0m 5ms/step - accuracy: 0.9917 - loss: 0.0267\n",
      "Epoch 4/5\n",
      "\u001b[1m957/957\u001b[0m \u001b[32m━━━━━━━━━━━━━━━━━━━━\u001b[0m\u001b[37m\u001b[0m \u001b[1m4s\u001b[0m 4ms/step - accuracy: 0.9958 - loss: 0.0162\n",
      "Epoch 5/5\n",
      "\u001b[1m957/957\u001b[0m \u001b[32m━━━━━━━━━━━━━━━━━━━━\u001b[0m\u001b[37m\u001b[0m \u001b[1m5s\u001b[0m 5ms/step - accuracy: 0.9957 - loss: 0.0168\n",
      "Test accuracy: 0.9920217990875244\n"
     ]
    }
   ],
   "source": [
    "import tensorflow as tf\n",
    "from tensorflow.keras.datasets import mnist\n",
    "from tensorflow.keras.models import Sequential\n",
    "from tensorflow.keras.layers import Dense\n",
    "from sklearn.model_selection import KFold, ParameterGrid\n",
    "import numpy as np\n",
    "\n",
    "# Load the MNIST dataset\n",
    "(x_train_full, y_train_full), (x_test, y_test) = mnist.load_data()\n",
    "\n",
    "# Filter digits 0 to 4\n",
    "train_mask = (y_train_full < 5)\n",
    "test_mask = (y_test < 5)\n",
    "x_train = x_train_full[train_mask]\n",
    "y_train = y_train_full[train_mask]\n",
    "x_test = x_test[test_mask]\n",
    "y_test = y_test[test_mask]\n",
    "\n",
    "# Preprocess the data\n",
    "x_train = x_train.reshape(-1, 28*28).astype('float32') / 255.0\n",
    "x_test = x_test.reshape(-1, 28*28).astype('float32') / 255.0\n",
    "\n",
    "# Define a function to create the model\n",
    "def create_model(hidden_layers=5, units=100, activation='elu', optimizer='adam'):\n",
    "    model = Sequential()\n",
    "    model.add(Dense(units, activation=activation, input_shape=(784,), kernel_initializer='he_normal'))\n",
    "    for _ in range(hidden_layers - 1):\n",
    "        model.add(Dense(units, activation=activation, kernel_initializer='he_normal'))\n",
    "    model.add(Dense(5, activation='softmax'))  # 5 output classes\n",
    "    model.compile(optimizer=optimizer,\n",
    "                  loss='sparse_categorical_crossentropy',\n",
    "                  metrics=['accuracy'])\n",
    "    return model\n",
    "\n",
    "# Define hyperparameters and their possible values\n",
    "param_grid = {\n",
    "    'hidden_layers': [3, 4, 5],\n",
    "    'units': [50, 100, 200],\n",
    "    'activation': ['relu', 'elu'],\n",
    "    'optimizer': ['adam', 'rmsprop']\n",
    "}\n",
    "\n",
    "# Perform cross-validation\n",
    "kf = KFold(n_splits=3, shuffle=True, random_state=42)\n",
    "best_score = 0\n",
    "best_params = {}\n",
    "\n",
    "for params in ParameterGrid(param_grid):\n",
    "    print(\"Training with params:\", params)\n",
    "    scores = []\n",
    "    for train_index, val_index in kf.split(x_train):\n",
    "        X_train_cv, X_val = x_train[train_index], x_train[val_index]\n",
    "        y_train_cv, y_val = y_train[train_index], y_train[val_index]\n",
    "        \n",
    "        model = create_model(**params)\n",
    "        history = model.fit(X_train_cv, y_train_cv,\n",
    "                            epochs=5,\n",
    "                            batch_size=32,\n",
    "                            validation_data=(X_val, y_val),\n",
    "                            verbose=0)\n",
    "        \n",
    "        _, accuracy = model.evaluate(X_val, y_val, verbose=0)\n",
    "        scores.append(accuracy)\n",
    "        \n",
    "    mean_score = np.mean(scores)\n",
    "    print(\"Validation accuracy:\", mean_score)\n",
    "    \n",
    "    if mean_score > best_score:\n",
    "        best_score = mean_score\n",
    "        best_params = params\n",
    "\n",
    "print(\"Best validation accuracy:\", best_score)\n",
    "print(\"Best parameters:\", best_params)\n",
    "\n",
    "# Train the best model on the full training set\n",
    "final_model = create_model(**best_params)\n",
    "final_model.fit(x_train, y_train, epochs=5, batch_size=32, verbose=1)\n",
    "\n",
    "# Evaluate the final model on the test set\n",
    "test_loss, test_accuracy = final_model.evaluate(x_test, y_test, verbose=0)\n",
    "print(\"Test accuracy:\", test_accuracy)\n"
   ]
  },
  {
   "cell_type": "markdown",
   "id": "JSdDybWgVkxb",
   "metadata": {
    "id": "JSdDybWgVkxb"
   },
   "source": [
    "**d. Now try adding Batch Normalization and compare the learning curves: is it\n",
    "converging faster than before? Does it produce a better model?**\n",
    "\n",
    "**Ans:**"
   ]
  },
  {
   "cell_type": "code",
   "execution_count": 55,
   "id": "dae94a0f-8403-47d0-90a7-d552f7fb090f",
   "metadata": {},
   "outputs": [
    {
     "name": "stdout",
     "output_type": "stream",
     "text": [
      "Training with params: {'activation': 'relu', 'hidden_layers': 3, 'optimizer': 'adam', 'units': 50, 'use_batch_norm': True}\n"
     ]
    },
    {
     "name": "stderr",
     "output_type": "stream",
     "text": [
      "E:\\anacondaInstalledHere\\Lib\\site-packages\\keras\\src\\layers\\core\\dense.py:87: UserWarning: Do not pass an `input_shape`/`input_dim` argument to a layer. When using Sequential models, prefer using an `Input(shape)` object as the first layer in the model instead.\n",
      "  super().__init__(activity_regularizer=activity_regularizer, **kwargs)\n"
     ]
    },
    {
     "name": "stdout",
     "output_type": "stream",
     "text": [
      "Validation accuracy: 0.9867630203564962\n",
      "Training with params: {'activation': 'relu', 'hidden_layers': 3, 'optimizer': 'adam', 'units': 50, 'use_batch_norm': False}\n",
      "Validation accuracy: 0.9848020871480306\n",
      "Training with params: {'activation': 'relu', 'hidden_layers': 3, 'optimizer': 'adam', 'units': 100, 'use_batch_norm': True}\n",
      "Validation accuracy: 0.9873512983322144\n",
      "Training with params: {'activation': 'relu', 'hidden_layers': 3, 'optimizer': 'adam', 'units': 100, 'use_batch_norm': False}\n",
      "Validation accuracy: 0.9869264562924703\n",
      "Training with params: {'activation': 'relu', 'hidden_layers': 3, 'optimizer': 'adam', 'units': 200, 'use_batch_norm': True}\n",
      "Validation accuracy: 0.9857497215270996\n",
      "Training with params: {'activation': 'relu', 'hidden_layers': 3, 'optimizer': 'adam', 'units': 200, 'use_batch_norm': False}\n",
      "Validation accuracy: 0.9847364028294882\n",
      "Training with params: {'activation': 'relu', 'hidden_layers': 3, 'optimizer': 'rmsprop', 'units': 50, 'use_batch_norm': True}\n",
      "Validation accuracy: 0.9876454472541809\n",
      "Training with params: {'activation': 'relu', 'hidden_layers': 3, 'optimizer': 'rmsprop', 'units': 50, 'use_batch_norm': False}\n",
      "Validation accuracy: 0.9860112468401591\n",
      "Training with params: {'activation': 'relu', 'hidden_layers': 3, 'optimizer': 'rmsprop', 'units': 100, 'use_batch_norm': True}\n",
      "Validation accuracy: 0.9892470439275106\n",
      "Training with params: {'activation': 'relu', 'hidden_layers': 3, 'optimizer': 'rmsprop', 'units': 100, 'use_batch_norm': False}\n",
      "Validation accuracy: 0.9872859716415405\n",
      "Training with params: {'activation': 'relu', 'hidden_layers': 3, 'optimizer': 'rmsprop', 'units': 200, 'use_batch_norm': True}\n",
      "Validation accuracy: 0.9888547658920288\n",
      "Training with params: {'activation': 'relu', 'hidden_layers': 3, 'optimizer': 'rmsprop', 'units': 200, 'use_batch_norm': False}\n",
      "Validation accuracy: 0.9873839219411215\n",
      "Training with params: {'activation': 'relu', 'hidden_layers': 4, 'optimizer': 'adam', 'units': 50, 'use_batch_norm': True}\n",
      "Validation accuracy: 0.984769344329834\n",
      "Training with params: {'activation': 'relu', 'hidden_layers': 4, 'optimizer': 'adam', 'units': 50, 'use_batch_norm': False}\n",
      "Validation accuracy: 0.9859458605448405\n",
      "Training with params: {'activation': 'relu', 'hidden_layers': 4, 'optimizer': 'adam', 'units': 100, 'use_batch_norm': True}\n",
      "Validation accuracy: 0.9876128236452738\n",
      "Training with params: {'activation': 'relu', 'hidden_layers': 4, 'optimizer': 'adam', 'units': 100, 'use_batch_norm': False}\n",
      "Validation accuracy: 0.9847038785616556\n",
      "Training with params: {'activation': 'relu', 'hidden_layers': 4, 'optimizer': 'adam', 'units': 200, 'use_batch_norm': True}\n",
      "Validation accuracy: 0.9874167641003927\n",
      "Training with params: {'activation': 'relu', 'hidden_layers': 4, 'optimizer': 'adam', 'units': 200, 'use_batch_norm': False}\n",
      "Validation accuracy: 0.9861746231714884\n",
      "Training with params: {'activation': 'relu', 'hidden_layers': 4, 'optimizer': 'rmsprop', 'units': 50, 'use_batch_norm': True}\n",
      "Validation accuracy: 0.9867303172747294\n",
      "Training with params: {'activation': 'relu', 'hidden_layers': 4, 'optimizer': 'rmsprop', 'units': 50, 'use_batch_norm': False}\n",
      "Validation accuracy: 0.9874167243639628\n",
      "Training with params: {'activation': 'relu', 'hidden_layers': 4, 'optimizer': 'rmsprop', 'units': 100, 'use_batch_norm': True}\n",
      "Validation accuracy: 0.9893123706181844\n",
      "Training with params: {'activation': 'relu', 'hidden_layers': 4, 'optimizer': 'rmsprop', 'units': 100, 'use_batch_norm': False}\n",
      "Validation accuracy: 0.9876127243041992\n",
      "Training with params: {'activation': 'relu', 'hidden_layers': 4, 'optimizer': 'rmsprop', 'units': 200, 'use_batch_norm': True}\n",
      "Validation accuracy: 0.9887566963831583\n",
      "Training with params: {'activation': 'relu', 'hidden_layers': 4, 'optimizer': 'rmsprop', 'units': 200, 'use_batch_norm': False}\n",
      "Validation accuracy: 0.9889201323191324\n",
      "Training with params: {'activation': 'relu', 'hidden_layers': 5, 'optimizer': 'adam', 'units': 50, 'use_batch_norm': True}\n",
      "Validation accuracy: 0.9832331935564677\n",
      "Training with params: {'activation': 'relu', 'hidden_layers': 5, 'optimizer': 'adam', 'units': 50, 'use_batch_norm': False}\n",
      "Validation accuracy: 0.9830370744069418\n",
      "Training with params: {'activation': 'relu', 'hidden_layers': 5, 'optimizer': 'adam', 'units': 100, 'use_batch_norm': True}\n",
      "Validation accuracy: 0.9863381385803223\n",
      "Training with params: {'activation': 'relu', 'hidden_layers': 5, 'optimizer': 'adam', 'units': 100, 'use_batch_norm': False}\n",
      "Validation accuracy: 0.9850308100382487\n",
      "Training with params: {'activation': 'relu', 'hidden_layers': 5, 'optimizer': 'adam', 'units': 200, 'use_batch_norm': True}\n",
      "Validation accuracy: 0.9880050222078959\n",
      "Training with params: {'activation': 'relu', 'hidden_layers': 5, 'optimizer': 'adam', 'units': 200, 'use_batch_norm': False}\n",
      "Validation accuracy: 0.9860439896583557\n",
      "Training with params: {'activation': 'relu', 'hidden_layers': 5, 'optimizer': 'rmsprop', 'units': 50, 'use_batch_norm': True}\n",
      "Validation accuracy: 0.986174742380778\n",
      "Training with params: {'activation': 'relu', 'hidden_layers': 5, 'optimizer': 'rmsprop', 'units': 50, 'use_batch_norm': False}\n",
      "Validation accuracy: 0.9797684947649637\n",
      "Training with params: {'activation': 'relu', 'hidden_layers': 5, 'optimizer': 'rmsprop', 'units': 100, 'use_batch_norm': True}\n",
      "Validation accuracy: 0.9882338047027588\n",
      "Training with params: {'activation': 'relu', 'hidden_layers': 5, 'optimizer': 'rmsprop', 'units': 100, 'use_batch_norm': False}\n",
      "Validation accuracy: 0.9871552387873331\n",
      "Training with params: {'activation': 'relu', 'hidden_layers': 5, 'optimizer': 'rmsprop', 'units': 200, 'use_batch_norm': True}\n",
      "Validation accuracy: 0.9879723191261292\n",
      "Training with params: {'activation': 'relu', 'hidden_layers': 5, 'optimizer': 'rmsprop', 'units': 200, 'use_batch_norm': False}\n",
      "Validation accuracy: 0.9868282874425253\n",
      "Training with params: {'activation': 'elu', 'hidden_layers': 3, 'optimizer': 'adam', 'units': 50, 'use_batch_norm': True}\n",
      "Validation accuracy: 0.9861747225125631\n",
      "Training with params: {'activation': 'elu', 'hidden_layers': 3, 'optimizer': 'adam', 'units': 50, 'use_batch_norm': False}\n",
      "Validation accuracy: 0.9846058090527853\n",
      "Training with params: {'activation': 'elu', 'hidden_layers': 3, 'optimizer': 'adam', 'units': 100, 'use_batch_norm': True}\n",
      "Validation accuracy: 0.9899660348892212\n",
      "Training with params: {'activation': 'elu', 'hidden_layers': 3, 'optimizer': 'adam', 'units': 100, 'use_batch_norm': False}\n",
      "Validation accuracy: 0.9862727920214335\n",
      "Training with params: {'activation': 'elu', 'hidden_layers': 3, 'optimizer': 'adam', 'units': 200, 'use_batch_norm': True}\n",
      "Validation accuracy: 0.9867630004882812\n",
      "Training with params: {'activation': 'elu', 'hidden_layers': 3, 'optimizer': 'adam', 'units': 200, 'use_batch_norm': False}\n",
      "Validation accuracy: 0.9823833902676901\n",
      "Training with params: {'activation': 'elu', 'hidden_layers': 3, 'optimizer': 'rmsprop', 'units': 50, 'use_batch_norm': True}\n",
      "Validation accuracy: 0.9875474373499552\n",
      "Training with params: {'activation': 'elu', 'hidden_layers': 3, 'optimizer': 'rmsprop', 'units': 50, 'use_batch_norm': False}\n",
      "Validation accuracy: 0.9870245059331259\n",
      "Training with params: {'activation': 'elu', 'hidden_layers': 3, 'optimizer': 'rmsprop', 'units': 100, 'use_batch_norm': True}\n",
      "Validation accuracy: 0.9899987578392029\n",
      "Training with params: {'activation': 'elu', 'hidden_layers': 3, 'optimizer': 'rmsprop', 'units': 100, 'use_batch_norm': False}\n",
      "Validation accuracy: 0.9857170780499777\n",
      "Training with params: {'activation': 'elu', 'hidden_layers': 3, 'optimizer': 'rmsprop', 'units': 200, 'use_batch_norm': True}\n",
      "Validation accuracy: 0.9899987379709879\n",
      "Training with params: {'activation': 'elu', 'hidden_layers': 3, 'optimizer': 'rmsprop', 'units': 200, 'use_batch_norm': False}\n",
      "Validation accuracy: 0.9838213523228964\n",
      "Training with params: {'activation': 'elu', 'hidden_layers': 4, 'optimizer': 'adam', 'units': 50, 'use_batch_norm': True}\n",
      "Validation accuracy: 0.9873513380686442\n",
      "Training with params: {'activation': 'elu', 'hidden_layers': 4, 'optimizer': 'adam', 'units': 50, 'use_batch_norm': False}\n",
      "Validation accuracy: 0.983854075272878\n",
      "Training with params: {'activation': 'elu', 'hidden_layers': 4, 'optimizer': 'adam', 'units': 100, 'use_batch_norm': True}\n",
      "Validation accuracy: 0.9876454671223959\n",
      "Training with params: {'activation': 'elu', 'hidden_layers': 4, 'optimizer': 'adam', 'units': 100, 'use_batch_norm': False}\n",
      "Validation accuracy: 0.9848020076751709\n",
      "Training with params: {'activation': 'elu', 'hidden_layers': 4, 'optimizer': 'adam', 'units': 200, 'use_batch_norm': True}\n",
      "Validation accuracy: 0.9883971611658732\n",
      "Training with params: {'activation': 'elu', 'hidden_layers': 4, 'optimizer': 'adam', 'units': 200, 'use_batch_norm': False}\n",
      "Validation accuracy: 0.9834292332331339\n",
      "Training with params: {'activation': 'elu', 'hidden_layers': 4, 'optimizer': 'rmsprop', 'units': 50, 'use_batch_norm': True}\n",
      "Validation accuracy: 0.9884953101476034\n",
      "Training with params: {'activation': 'elu', 'hidden_layers': 4, 'optimizer': 'rmsprop', 'units': 50, 'use_batch_norm': False}\n",
      "Validation accuracy: 0.9843770662943522\n",
      "Training with params: {'activation': 'elu', 'hidden_layers': 4, 'optimizer': 'rmsprop', 'units': 100, 'use_batch_norm': True}\n",
      "Validation accuracy: 0.9876454671223959\n",
      "Training with params: {'activation': 'elu', 'hidden_layers': 4, 'optimizer': 'rmsprop', 'units': 100, 'use_batch_norm': False}\n",
      "Validation accuracy: 0.986566960811615\n",
      "Training with params: {'activation': 'elu', 'hidden_layers': 4, 'optimizer': 'rmsprop', 'units': 200, 'use_batch_norm': True}\n",
      "Validation accuracy: 0.987678070863088\n",
      "Training with params: {'activation': 'elu', 'hidden_layers': 4, 'optimizer': 'rmsprop', 'units': 200, 'use_batch_norm': False}\n",
      "Validation accuracy: 0.9859785834948221\n",
      "Training with params: {'activation': 'elu', 'hidden_layers': 5, 'optimizer': 'adam', 'units': 50, 'use_batch_norm': True}\n",
      "Validation accuracy: 0.9863707224527994\n",
      "Training with params: {'activation': 'elu', 'hidden_layers': 5, 'optimizer': 'adam', 'units': 50, 'use_batch_norm': False}\n",
      "Validation accuracy: 0.982546846071879\n",
      "Training with params: {'activation': 'elu', 'hidden_layers': 5, 'optimizer': 'adam', 'units': 100, 'use_batch_norm': True}\n",
      "Validation accuracy: 0.9856517116228739\n",
      "Training with params: {'activation': 'elu', 'hidden_layers': 5, 'optimizer': 'adam', 'units': 100, 'use_batch_norm': False}\n",
      "Validation accuracy: 0.9822853406270345\n",
      "Training with params: {'activation': 'elu', 'hidden_layers': 5, 'optimizer': 'adam', 'units': 200, 'use_batch_norm': True}\n",
      "Validation accuracy: 0.9870898524920145\n",
      "Training with params: {'activation': 'elu', 'hidden_layers': 5, 'optimizer': 'adam', 'units': 200, 'use_batch_norm': False}\n",
      "Validation accuracy: 0.9813047051429749\n",
      "Training with params: {'activation': 'elu', 'hidden_layers': 5, 'optimizer': 'rmsprop', 'units': 50, 'use_batch_norm': True}\n",
      "Validation accuracy: 0.9865669210751852\n",
      "Training with params: {'activation': 'elu', 'hidden_layers': 5, 'optimizer': 'rmsprop', 'units': 50, 'use_batch_norm': False}\n",
      "Validation accuracy: 0.9831023414929708\n",
      "Training with params: {'activation': 'elu', 'hidden_layers': 5, 'optimizer': 'rmsprop', 'units': 100, 'use_batch_norm': True}\n",
      "Validation accuracy: 0.9876128236452738\n",
      "Training with params: {'activation': 'elu', 'hidden_layers': 5, 'optimizer': 'rmsprop', 'units': 100, 'use_batch_norm': False}\n",
      "Validation accuracy: 0.9849326610565186\n",
      "Training with params: {'activation': 'elu', 'hidden_layers': 5, 'optimizer': 'rmsprop', 'units': 200, 'use_batch_norm': True}\n",
      "Validation accuracy: 0.987678070863088\n",
      "Training with params: {'activation': 'elu', 'hidden_layers': 5, 'optimizer': 'rmsprop', 'units': 200, 'use_batch_norm': False}\n",
      "Validation accuracy: 0.9832003513971964\n",
      "Best validation accuracy: 0.9899987578392029\n",
      "Best parameters: {'activation': 'elu', 'hidden_layers': 3, 'optimizer': 'rmsprop', 'units': 100, 'use_batch_norm': True}\n",
      "Epoch 1/5\n",
      "\u001b[1m765/765\u001b[0m \u001b[32m━━━━━━━━━━━━━━━━━━━━\u001b[0m\u001b[37m\u001b[0m \u001b[1m6s\u001b[0m 5ms/step - accuracy: 0.9339 - loss: 0.2014 - val_accuracy: 0.9882 - val_loss: 0.0421\n",
      "Epoch 2/5\n",
      "\u001b[1m765/765\u001b[0m \u001b[32m━━━━━━━━━━━━━━━━━━━━\u001b[0m\u001b[37m\u001b[0m \u001b[1m3s\u001b[0m 4ms/step - accuracy: 0.9836 - loss: 0.0575 - val_accuracy: 0.9889 - val_loss: 0.0360\n",
      "Epoch 3/5\n",
      "\u001b[1m765/765\u001b[0m \u001b[32m━━━━━━━━━━━━━━━━━━━━\u001b[0m\u001b[37m\u001b[0m \u001b[1m3s\u001b[0m 4ms/step - accuracy: 0.9877 - loss: 0.0377 - val_accuracy: 0.9897 - val_loss: 0.0369\n",
      "Epoch 4/5\n",
      "\u001b[1m765/765\u001b[0m \u001b[32m━━━━━━━━━━━━━━━━━━━━\u001b[0m\u001b[37m\u001b[0m \u001b[1m3s\u001b[0m 4ms/step - accuracy: 0.9889 - loss: 0.0342 - val_accuracy: 0.9905 - val_loss: 0.0294\n",
      "Epoch 5/5\n",
      "\u001b[1m765/765\u001b[0m \u001b[32m━━━━━━━━━━━━━━━━━━━━\u001b[0m\u001b[37m\u001b[0m \u001b[1m3s\u001b[0m 4ms/step - accuracy: 0.9929 - loss: 0.0206 - val_accuracy: 0.9912 - val_loss: 0.0333\n",
      "Test accuracy: 0.9908542633056641\n"
     ]
    },
    {
     "data": {
      "image/png": "[encoded data removed]",
      "text/plain": [
       "<Figure size 1200x600 with 1 Axes>"
      ]
     },
     "metadata": {},
     "output_type": "display_data"
    }
   ],
   "source": [
    "import tensorflow as tf\n",
    "from tensorflow.keras.datasets import mnist\n",
    "from tensorflow.keras.models import Sequential\n",
    "from tensorflow.keras.layers import Dense, BatchNormalization\n",
    "from sklearn.model_selection import KFold, ParameterGrid\n",
    "import numpy as np\n",
    "import matplotlib.pyplot as plt\n",
    "\n",
    "# Load the MNIST dataset\n",
    "(x_train_full, y_train_full), (x_test, y_test) = mnist.load_data()\n",
    "\n",
    "# Filter digits 0 to 4\n",
    "train_mask = (y_train_full < 5)\n",
    "test_mask = (y_test < 5)\n",
    "x_train = x_train_full[train_mask]\n",
    "y_train = y_train_full[train_mask]\n",
    "x_test = x_test[test_mask]\n",
    "y_test = y_test[test_mask]\n",
    "\n",
    "# Preprocess the data\n",
    "x_train = x_train.reshape(-1, 28*28).astype('float32') / 255.0\n",
    "x_test = x_test.reshape(-1, 28*28).astype('float32') / 255.0\n",
    "\n",
    "# Define a function to create the model\n",
    "def create_model(hidden_layers=5, units=100, activation='elu', optimizer='adam', use_batch_norm=True):\n",
    "    model = Sequential()\n",
    "    model.add(Dense(units, activation=activation, input_shape=(784,), kernel_initializer='he_normal'))\n",
    "    if use_batch_norm:\n",
    "        model.add(BatchNormalization())\n",
    "    for _ in range(hidden_layers - 1):\n",
    "        model.add(Dense(units, activation=activation, kernel_initializer='he_normal'))\n",
    "        if use_batch_norm:\n",
    "            model.add(BatchNormalization())\n",
    "    model.add(Dense(5, activation='softmax'))  # 5 output classes\n",
    "    model.compile(optimizer=optimizer,\n",
    "                  loss='sparse_categorical_crossentropy',\n",
    "                  metrics=['accuracy'])\n",
    "    return model\n",
    "\n",
    "# Define hyperparameters and their possible values\n",
    "param_grid = {\n",
    "    'hidden_layers': [3, 4, 5],\n",
    "    'units': [50, 100, 200],\n",
    "    'activation': ['relu', 'elu'],\n",
    "    'optimizer': ['adam', 'rmsprop'],\n",
    "    'use_batch_norm': [True, False]\n",
    "}\n",
    "\n",
    "# Perform cross-validation\n",
    "kf = KFold(n_splits=3, shuffle=True, random_state=42)\n",
    "best_score = 0\n",
    "best_params = {}\n",
    "\n",
    "for params in ParameterGrid(param_grid):\n",
    "    print(\"Training with params:\", params)\n",
    "    scores = []\n",
    "    for train_index, val_index in kf.split(x_train):\n",
    "        X_train_cv, X_val = x_train[train_index], x_train[val_index]\n",
    "        y_train_cv, y_val = y_train[train_index], y_train[val_index]\n",
    "        \n",
    "        model = create_model(**params)\n",
    "        history = model.fit(X_train_cv, y_train_cv,\n",
    "                            epochs=5,\n",
    "                            batch_size=32,\n",
    "                            validation_data=(X_val, y_val),\n",
    "                            verbose=0)\n",
    "        \n",
    "        _, accuracy = model.evaluate(X_val, y_val, verbose=0)\n",
    "        scores.append(accuracy)\n",
    "        \n",
    "    mean_score = np.mean(scores)\n",
    "    print(\"Validation accuracy:\", mean_score)\n",
    "    \n",
    "    if mean_score > best_score:\n",
    "        best_score = mean_score\n",
    "        best_params = params\n",
    "\n",
    "print(\"Best validation accuracy:\", best_score)\n",
    "print(\"Best parameters:\", best_params)\n",
    "\n",
    "# Train the best model on the full training set\n",
    "final_model = create_model(**best_params)\n",
    "history = final_model.fit(x_train, y_train, epochs=5, batch_size=32, verbose=1, validation_split=0.2)\n",
    "\n",
    "# Evaluate the final model on the test set\n",
    "test_loss, test_accuracy = final_model.evaluate(x_test, y_test, verbose=0)\n",
    "print(\"Test accuracy:\", test_accuracy)\n",
    "\n",
    "# Plot the learning curves\n",
    "plt.figure(figsize=(12, 6))\n",
    "plt.plot(history.history['accuracy'], label='Training Accuracy')\n",
    "plt.plot(history.history['val_accuracy'], label='Validation Accuracy')\n",
    "plt.title('Training and Validation Accuracy')\n",
    "plt.xlabel('Epoch')\n",
    "plt.ylabel('Accuracy')\n",
    "plt.legend()\n",
    "plt.grid(True)\n",
    "plt.show()\n"
   ]
  },
  {
   "cell_type": "markdown",
   "id": "lV80nqE5dvgp",
   "metadata": {
    "id": "lV80nqE5dvgp"
   },
   "source": [
    "**e. Is the model overfitting the training set? Try adding dropout to every layer and try again. Does it help?**\n",
    "\n",
    "**Ans:** "
   ]
  },
  {
   "cell_type": "code",
   "execution_count": 72,
   "id": "4e7dfc03-a444-41a3-a88e-168cfd170cca",
   "metadata": {},
   "outputs": [],
   "source": [
    "# Load the MNIST dataset\n",
    "(x_train_full, y_train_full), (x_test, y_test) = mnist.load_data()\n",
    "\n",
    "# Filter digits 0 to 4\n",
    "train_mask = (y_train_full < 5)\n",
    "test_mask = (y_test < 5)\n",
    "x_train = x_train_full[train_mask]\n",
    "y_train = y_train_full[train_mask]\n",
    "x_test = x_test[test_mask]\n",
    "y_test = y_test[test_mask]"
   ]
  },
  {
   "cell_type": "code",
   "execution_count": 73,
   "id": "oHGKyucNd4f9",
   "metadata": {
    "id": "oHGKyucNd4f9"
   },
   "outputs": [],
   "source": [
    "# Build DNN with Dropout\n",
    "model = keras.models.Sequential([\n",
    "    keras.layers.Flatten(input_shape=[28, 28]),\n",
    "    keras.layers.Dropout(rate=0.2),\n",
    "    keras.layers.Dense(100, activation=\"elu\", kernel_initializer=\"he_normal\"),\n",
    "    keras.layers.Dropout(rate=0.2),\n",
    "    keras.layers.Dense(100, activation=\"elu\", kernel_initializer=\"he_normal\"),\n",
    "    keras.layers.Dropout(rate=0.2),\n",
    "    keras.layers.Dense(100, activation=\"elu\", kernel_initializer=\"he_normal\"),\n",
    "    keras.layers.Dropout(rate=0.2),\n",
    "    keras.layers.Dense(100, activation=\"elu\", kernel_initializer=\"he_normal\"),\n",
    "    keras.layers.Dropout(rate=0.2),\n",
    "    keras.layers.Dense(5, activation=\"softmax\")\n",
    "])"
   ]
  },
  {
   "cell_type": "code",
   "execution_count": 74,
   "id": "X9e4D9VrecIA",
   "metadata": {
    "id": "X9e4D9VrecIA"
   },
   "outputs": [],
   "source": [
    "# Compile model\n",
    "model.compile(loss=\"sparse_categorical_crossentropy\",\n",
    "              optimizer=keras.optimizers.Adam(),\n",
    "              metrics=[\"accuracy\"])"
   ]
  },
  {
   "cell_type": "code",
   "execution_count": 76,
   "id": "SRqt461nefgx",
   "metadata": {
    "id": "SRqt461nefgx"
   },
   "outputs": [
    {
     "name": "stdout",
     "output_type": "stream",
     "text": [
      "Epoch 1/10\n",
      "\u001b[1m957/957\u001b[0m \u001b[32m━━━━━━━━━━━━━━━━━━━━\u001b[0m\u001b[37m\u001b[0m \u001b[1m4s\u001b[0m 4ms/step - accuracy: 0.8423 - loss: 0.9594\n",
      "Epoch 2/10\n",
      "\u001b[1m 22/957\u001b[0m \u001b[37m━━━━━━━━━━━━━━━━━━━━\u001b[0m \u001b[1m4s\u001b[0m 5ms/step - accuracy: 0.8789 - loss: 0.4172"
     ]
    },
    {
     "name": "stderr",
     "output_type": "stream",
     "text": [
      "E:\\anacondaInstalledHere\\Lib\\site-packages\\keras\\src\\callbacks\\early_stopping.py:155: UserWarning: Early stopping conditioned on metric `val_loss` which is not available. Available metrics are: accuracy,loss\n",
      "  current = self.get_monitor_value(logs)\n"
     ]
    },
    {
     "name": "stdout",
     "output_type": "stream",
     "text": [
      "\u001b[1m957/957\u001b[0m \u001b[32m━━━━━━━━━━━━━━━━━━━━\u001b[0m\u001b[37m\u001b[0m \u001b[1m4s\u001b[0m 4ms/step - accuracy: 0.8822 - loss: 0.4592\n",
      "Epoch 3/10\n",
      "\u001b[1m957/957\u001b[0m \u001b[32m━━━━━━━━━━━━━━━━━━━━\u001b[0m\u001b[37m\u001b[0m \u001b[1m4s\u001b[0m 4ms/step - accuracy: 0.9169 - loss: 0.3173\n",
      "Epoch 4/10\n",
      "\u001b[1m957/957\u001b[0m \u001b[32m━━━━━━━━━━━━━━━━━━━━\u001b[0m\u001b[37m\u001b[0m \u001b[1m4s\u001b[0m 4ms/step - accuracy: 0.9306 - loss: 0.2538\n",
      "Epoch 5/10\n",
      "\u001b[1m957/957\u001b[0m \u001b[32m━━━━━━━━━━━━━━━━━━━━\u001b[0m\u001b[37m\u001b[0m \u001b[1m4s\u001b[0m 4ms/step - accuracy: 0.9481 - loss: 0.1942\n",
      "Epoch 6/10\n",
      "\u001b[1m957/957\u001b[0m \u001b[32m━━━━━━━━━━━━━━━━━━━━\u001b[0m\u001b[37m\u001b[0m \u001b[1m4s\u001b[0m 4ms/step - accuracy: 0.9540 - loss: 0.1683\n",
      "Epoch 7/10\n",
      "\u001b[1m957/957\u001b[0m \u001b[32m━━━━━━━━━━━━━━━━━━━━\u001b[0m\u001b[37m\u001b[0m \u001b[1m4s\u001b[0m 4ms/step - accuracy: 0.9572 - loss: 0.1621\n",
      "Epoch 8/10\n",
      "\u001b[1m957/957\u001b[0m \u001b[32m━━━━━━━━━━━━━━━━━━━━\u001b[0m\u001b[37m\u001b[0m \u001b[1m5s\u001b[0m 5ms/step - accuracy: 0.9619 - loss: 0.1370\n",
      "Epoch 9/10\n",
      "\u001b[1m957/957\u001b[0m \u001b[32m━━━━━━━━━━━━━━━━━━━━\u001b[0m\u001b[37m\u001b[0m \u001b[1m6s\u001b[0m 6ms/step - accuracy: 0.9657 - loss: 0.1366\n",
      "Epoch 10/10\n",
      "\u001b[1m957/957\u001b[0m \u001b[32m━━━━━━━━━━━━━━━━━━━━\u001b[0m\u001b[37m\u001b[0m \u001b[1m3s\u001b[0m 4ms/step - accuracy: 0.9687 - loss: 0.1176\n"
     ]
    }
   ],
   "source": [
    "# Train model\n",
    "history_dropout = model.fit(x_train, y_train, epochs=10, batch_size=32,\n",
    "                            callbacks=[early_stopping_cb])\n"
   ]
  },
  {
   "cell_type": "markdown",
   "id": "28cdf155-1916-4688-be4a-5f6e726052a0",
   "metadata": {},
   "source": [
    "**2. Transfer learning.**\n",
    "\n",
    "**a. Create a new DNN that reuses all the pretrained hidden layers of the previous model, freezes them, and replaces the softmax output layer with a new one.**\n",
    "\n",
    "**b. Train this new DNN on digits 5 to 9, using only 100 images per digit, and time how long it takes. Despite this small number of examples, can you achieve high precision?**\n",
    "\n",
    "**c. Try caching the frozen layers, and train the model again: how much faster is it now?**\n",
    "\n",
    "**d. Try again reusing just four hidden layers instead of five. Can you achieve a higher precision?**\n",
    "\n",
    "**e. Now unfreeze the top two hidden layers and continue training: can you get the model to perform even better?**\n",
    "\n",
    "**Ans:**"
   ]
  },
  {
   "cell_type": "code",
   "execution_count": 1,
   "id": "27018961-e009-4b2c-8eeb-ec91fa3b878b",
   "metadata": {
    "tags": []
   },
   "outputs": [],
   "source": [
    "import tensorflow as tf\n",
    "from tensorflow import keras"
   ]
  },
  {
   "cell_type": "code",
   "execution_count": 26,
   "id": "a067180b-7ac9-406a-bde9-3e4b43dee284",
   "metadata": {
    "tags": []
   },
   "outputs": [
    {
     "name": "stderr",
     "output_type": "stream",
     "text": [
      "WARNING:absl:Compiled the loaded model, but the compiled metrics have yet to be built. `model.compile_metrics` will be empty until you train or evaluate the model.\n"
     ]
    },
    {
     "data": {
      "text/html": [
       "<pre style=\"white-space:pre;overflow-x:auto;line-height:normal;font-family:Menlo,'DejaVu Sans Mono',consolas,'Courier New',monospace\"><span style=\"font-weight: bold\">Model: \"sequential_4\"</span>\n",
       "</pre>\n"
      ],
      "text/plain": [
       "\u001b[1mModel: \"sequential_4\"\u001b[0m\n"
      ]
     },
     "metadata": {},
     "output_type": "display_data"
    },
    {
     "data": {
      "text/html": [
       "<pre style=\"white-space:pre;overflow-x:auto;line-height:normal;font-family:Menlo,'DejaVu Sans Mono',consolas,'Courier New',monospace\">┏━━━━━━━━━━━━━━━━━━━━━━━━━━━━━━━━━━━━━━┳━━━━━━━━━━━━━━━━━━━━━━━━━━━━━┳━━━━━━━━━━━━━━━━━┓\n",
       "┃<span style=\"font-weight: bold\"> Layer (type)                         </span>┃<span style=\"font-weight: bold\"> Output Shape                </span>┃<span style=\"font-weight: bold\">         Param # </span>┃\n",
       "┡━━━━━━━━━━━━━━━━━━━━━━━━━━━━━━━━━━━━━━╇━━━━━━━━━━━━━━━━━━━━━━━━━━━━━╇━━━━━━━━━━━━━━━━━┩\n",
       "│ dense_21 (<span style=\"color: #0087ff; text-decoration-color: #0087ff\">Dense</span>)                     │ (<span style=\"color: #00d7ff; text-decoration-color: #00d7ff\">None</span>, <span style=\"color: #00af00; text-decoration-color: #00af00\">100</span>)                 │          <span style=\"color: #00af00; text-decoration-color: #00af00\">78,500</span> │\n",
       "├──────────────────────────────────────┼─────────────────────────────┼─────────────────┤\n",
       "│ dense_22 (<span style=\"color: #0087ff; text-decoration-color: #0087ff\">Dense</span>)                     │ (<span style=\"color: #00d7ff; text-decoration-color: #00d7ff\">None</span>, <span style=\"color: #00af00; text-decoration-color: #00af00\">100</span>)                 │          <span style=\"color: #00af00; text-decoration-color: #00af00\">10,100</span> │\n",
       "├──────────────────────────────────────┼─────────────────────────────┼─────────────────┤\n",
       "│ dense_23 (<span style=\"color: #0087ff; text-decoration-color: #0087ff\">Dense</span>)                     │ (<span style=\"color: #00d7ff; text-decoration-color: #00d7ff\">None</span>, <span style=\"color: #00af00; text-decoration-color: #00af00\">100</span>)                 │          <span style=\"color: #00af00; text-decoration-color: #00af00\">10,100</span> │\n",
       "├──────────────────────────────────────┼─────────────────────────────┼─────────────────┤\n",
       "│ dense_24 (<span style=\"color: #0087ff; text-decoration-color: #0087ff\">Dense</span>)                     │ (<span style=\"color: #00d7ff; text-decoration-color: #00d7ff\">None</span>, <span style=\"color: #00af00; text-decoration-color: #00af00\">100</span>)                 │          <span style=\"color: #00af00; text-decoration-color: #00af00\">10,100</span> │\n",
       "├──────────────────────────────────────┼─────────────────────────────┼─────────────────┤\n",
       "│ dense_25 (<span style=\"color: #0087ff; text-decoration-color: #0087ff\">Dense</span>)                     │ (<span style=\"color: #00d7ff; text-decoration-color: #00d7ff\">None</span>, <span style=\"color: #00af00; text-decoration-color: #00af00\">100</span>)                 │          <span style=\"color: #00af00; text-decoration-color: #00af00\">10,100</span> │\n",
       "├──────────────────────────────────────┼─────────────────────────────┼─────────────────┤\n",
       "│ dense_26 (<span style=\"color: #0087ff; text-decoration-color: #0087ff\">Dense</span>)                     │ (<span style=\"color: #00d7ff; text-decoration-color: #00d7ff\">None</span>, <span style=\"color: #00af00; text-decoration-color: #00af00\">5</span>)                   │             <span style=\"color: #00af00; text-decoration-color: #00af00\">505</span> │\n",
       "└──────────────────────────────────────┴─────────────────────────────┴─────────────────┘\n",
       "</pre>\n"
      ],
      "text/plain": [
       "┏━━━━━━━━━━━━━━━━━━━━━━━━━━━━━━━━━━━━━━┳━━━━━━━━━━━━━━━━━━━━━━━━━━━━━┳━━━━━━━━━━━━━━━━━┓\n",
       "┃\u001b[1m \u001b[0m\u001b[1mLayer (type)                        \u001b[0m\u001b[1m \u001b[0m┃\u001b[1m \u001b[0m\u001b[1mOutput Shape               \u001b[0m\u001b[1m \u001b[0m┃\u001b[1m \u001b[0m\u001b[1m        Param #\u001b[0m\u001b[1m \u001b[0m┃\n",
       "┡━━━━━━━━━━━━━━━━━━━━━━━━━━━━━━━━━━━━━━╇━━━━━━━━━━━━━━━━━━━━━━━━━━━━━╇━━━━━━━━━━━━━━━━━┩\n",
       "│ dense_21 (\u001b[38;5;33mDense\u001b[0m)                     │ (\u001b[38;5;45mNone\u001b[0m, \u001b[38;5;34m100\u001b[0m)                 │          \u001b[38;5;34m78,500\u001b[0m │\n",
       "├──────────────────────────────────────┼─────────────────────────────┼─────────────────┤\n",
       "│ dense_22 (\u001b[38;5;33mDense\u001b[0m)                     │ (\u001b[38;5;45mNone\u001b[0m, \u001b[38;5;34m100\u001b[0m)                 │          \u001b[38;5;34m10,100\u001b[0m │\n",
       "├──────────────────────────────────────┼─────────────────────────────┼─────────────────┤\n",
       "│ dense_23 (\u001b[38;5;33mDense\u001b[0m)                     │ (\u001b[38;5;45mNone\u001b[0m, \u001b[38;5;34m100\u001b[0m)                 │          \u001b[38;5;34m10,100\u001b[0m │\n",
       "├──────────────────────────────────────┼─────────────────────────────┼─────────────────┤\n",
       "│ dense_24 (\u001b[38;5;33mDense\u001b[0m)                     │ (\u001b[38;5;45mNone\u001b[0m, \u001b[38;5;34m100\u001b[0m)                 │          \u001b[38;5;34m10,100\u001b[0m │\n",
       "├──────────────────────────────────────┼─────────────────────────────┼─────────────────┤\n",
       "│ dense_25 (\u001b[38;5;33mDense\u001b[0m)                     │ (\u001b[38;5;45mNone\u001b[0m, \u001b[38;5;34m100\u001b[0m)                 │          \u001b[38;5;34m10,100\u001b[0m │\n",
       "├──────────────────────────────────────┼─────────────────────────────┼─────────────────┤\n",
       "│ dense_26 (\u001b[38;5;33mDense\u001b[0m)                     │ (\u001b[38;5;45mNone\u001b[0m, \u001b[38;5;34m5\u001b[0m)                   │             \u001b[38;5;34m505\u001b[0m │\n",
       "└──────────────────────────────────────┴─────────────────────────────┴─────────────────┘\n"
      ]
     },
     "metadata": {},
     "output_type": "display_data"
    },
    {
     "data": {
      "text/html": [
       "<pre style=\"white-space:pre;overflow-x:auto;line-height:normal;font-family:Menlo,'DejaVu Sans Mono',consolas,'Courier New',monospace\"><span style=\"font-weight: bold\"> Total params: </span><span style=\"color: #00af00; text-decoration-color: #00af00\">119,407</span> (466.44 KB)\n",
       "</pre>\n"
      ],
      "text/plain": [
       "\u001b[1m Total params: \u001b[0m\u001b[38;5;34m119,407\u001b[0m (466.44 KB)\n"
      ]
     },
     "metadata": {},
     "output_type": "display_data"
    },
    {
     "data": {
      "text/html": [
       "<pre style=\"white-space:pre;overflow-x:auto;line-height:normal;font-family:Menlo,'DejaVu Sans Mono',consolas,'Courier New',monospace\"><span style=\"font-weight: bold\"> Trainable params: </span><span style=\"color: #00af00; text-decoration-color: #00af00\">119,405</span> (466.43 KB)\n",
       "</pre>\n"
      ],
      "text/plain": [
       "\u001b[1m Trainable params: \u001b[0m\u001b[38;5;34m119,405\u001b[0m (466.43 KB)\n"
      ]
     },
     "metadata": {},
     "output_type": "display_data"
    },
    {
     "data": {
      "text/html": [
       "<pre style=\"white-space:pre;overflow-x:auto;line-height:normal;font-family:Menlo,'DejaVu Sans Mono',consolas,'Courier New',monospace\"><span style=\"font-weight: bold\"> Non-trainable params: </span><span style=\"color: #00af00; text-decoration-color: #00af00\">0</span> (0.00 B)\n",
       "</pre>\n"
      ],
      "text/plain": [
       "\u001b[1m Non-trainable params: \u001b[0m\u001b[38;5;34m0\u001b[0m (0.00 B)\n"
      ]
     },
     "metadata": {},
     "output_type": "display_data"
    },
    {
     "data": {
      "text/html": [
       "<pre style=\"white-space:pre;overflow-x:auto;line-height:normal;font-family:Menlo,'DejaVu Sans Mono',consolas,'Courier New',monospace\"><span style=\"font-weight: bold\"> Optimizer params: </span><span style=\"color: #00af00; text-decoration-color: #00af00\">2</span> (12.00 B)\n",
       "</pre>\n"
      ],
      "text/plain": [
       "\u001b[1m Optimizer params: \u001b[0m\u001b[38;5;34m2\u001b[0m (12.00 B)\n"
      ]
     },
     "metadata": {},
     "output_type": "display_data"
    }
   ],
   "source": [
    "# Load the pretrained model\n",
    "pretrained_model = keras.models.load_model(\"mnist_model_0_to_4.h5\")\n",
    "pretrained_model.summary()"
   ]
  },
  {
   "cell_type": "code",
   "execution_count": 27,
   "id": "93cf579e-a74d-40ad-bb8f-efcdf74a37e7",
   "metadata": {
    "tags": []
   },
   "outputs": [],
   "source": [
    "# Create a new DNN that reuses all the pretrained hidden layers of the previous model\n",
    "new_model = keras.models.Sequential(pretrained_model.layers[:-1])"
   ]
  },
  {
   "cell_type": "code",
   "execution_count": 28,
   "id": "09219fa1-ea89-4398-b9d8-8fc6be4bdf56",
   "metadata": {
    "tags": []
   },
   "outputs": [],
   "source": [
    "# Freeze the reused layers\n",
    "for layer in new_model.layers:\n",
    "    layer.trainable = False"
   ]
  },
  {
   "cell_type": "code",
   "execution_count": 29,
   "id": "e28deb34-28f4-4fc7-a705-5eb8bbd3a87f",
   "metadata": {
    "tags": []
   },
   "outputs": [],
   "source": [
    "# Add a new softmax output layer with the desired number of units\n",
    "new_model.add(keras.layers.Dense(5, activation=\"softmax\"))"
   ]
  },
  {
   "cell_type": "code",
   "execution_count": 30,
   "id": "7fef98e5-995f-47b8-a05d-13f5b652281c",
   "metadata": {
    "tags": []
   },
   "outputs": [],
   "source": [
    "# Compile the new model\n",
    "new_model.compile(loss=\"sparse_categorical_crossentropy\", optimizer=\"sgd\", metrics=[\"accuracy\"])"
   ]
  },
  {
   "cell_type": "code",
   "execution_count": 32,
   "id": "d4446eba-c860-47d7-8b79-7e354d805820",
   "metadata": {
    "tags": []
   },
   "outputs": [],
   "source": [
    "# Load the training data for digits 5 to 9\n",
    "(X_train, y_train), (X_test, y_test) = keras.datasets.mnist.load_data()\n",
    "X_train = X_train[y_train >= 5]\n",
    "y_train = y_train[y_train >= 5] - 5\n",
    "X_test = X_test[y_test >= 5]\n",
    "y_test = y_test[y_test >= 5] - 5"
   ]
  },
  {
   "cell_type": "code",
   "execution_count": 33,
   "id": "565a43b4-e3f3-4542-b1df-e0ed3c49ba43",
   "metadata": {},
   "outputs": [],
   "source": [
    "# Preprocess the data\n",
    "X_train = X_train.reshape(-1, 28*28).astype('float32') / 255.0\n",
    "X_test = X_test.reshape(-1, 28*28).astype('float32') / 255.0"
   ]
  },
  {
   "cell_type": "code",
   "execution_count": 36,
   "id": "4db07155-72f0-4329-99df-a65590e837d1",
   "metadata": {
    "tags": []
   },
   "outputs": [
    {
     "name": "stdout",
     "output_type": "stream",
     "text": [
      "Epoch 1/10\n",
      "\u001b[1m16/16\u001b[0m \u001b[32m━━━━━━━━━━━━━━━━━━━━\u001b[0m\u001b[37m\u001b[0m \u001b[1m5s\u001b[0m 97ms/step - accuracy: 0.3235 - loss: 2.5496 - val_accuracy: 0.5616 - val_loss: 1.3963\n",
      "Epoch 2/10\n",
      "\u001b[1m16/16\u001b[0m \u001b[32m━━━━━━━━━━━━━━━━━━━━\u001b[0m\u001b[37m\u001b[0m \u001b[1m1s\u001b[0m 59ms/step - accuracy: 0.6361 - loss: 1.1244 - val_accuracy: 0.6100 - val_loss: 1.1161\n",
      "Epoch 3/10\n",
      "\u001b[1m16/16\u001b[0m \u001b[32m━━━━━━━━━━━━━━━━━━━━\u001b[0m\u001b[37m\u001b[0m \u001b[1m1s\u001b[0m 49ms/step - accuracy: 0.7065 - loss: 0.8864 - val_accuracy: 0.6515 - val_loss: 0.9743\n",
      "Epoch 4/10\n",
      "\u001b[1m16/16\u001b[0m \u001b[32m━━━━━━━━━━━━━━━━━━━━\u001b[0m\u001b[37m\u001b[0m \u001b[1m1s\u001b[0m 42ms/step - accuracy: 0.7021 - loss: 0.8081 - val_accuracy: 0.6739 - val_loss: 0.9197\n",
      "Epoch 5/10\n",
      "\u001b[1m16/16\u001b[0m \u001b[32m━━━━━━━━━━━━━━━━━━━━\u001b[0m\u001b[37m\u001b[0m \u001b[1m1s\u001b[0m 60ms/step - accuracy: 0.7539 - loss: 0.6878 - val_accuracy: 0.6776 - val_loss: 0.8947\n",
      "Epoch 6/10\n",
      "\u001b[1m16/16\u001b[0m \u001b[32m━━━━━━━━━━━━━━━━━━━━\u001b[0m\u001b[37m\u001b[0m \u001b[1m1s\u001b[0m 41ms/step - accuracy: 0.7522 - loss: 0.6948 - val_accuracy: 0.6896 - val_loss: 0.8618\n",
      "Epoch 7/10\n",
      "\u001b[1m16/16\u001b[0m \u001b[32m━━━━━━━━━━━━━━━━━━━━\u001b[0m\u001b[37m\u001b[0m \u001b[1m1s\u001b[0m 58ms/step - accuracy: 0.7707 - loss: 0.6596 - val_accuracy: 0.7073 - val_loss: 0.8238\n",
      "Epoch 8/10\n",
      "\u001b[1m16/16\u001b[0m \u001b[32m━━━━━━━━━━━━━━━━━━━━\u001b[0m\u001b[37m\u001b[0m \u001b[1m1s\u001b[0m 51ms/step - accuracy: 0.7820 - loss: 0.6451 - val_accuracy: 0.7054 - val_loss: 0.8185\n",
      "Epoch 9/10\n",
      "\u001b[1m16/16\u001b[0m \u001b[32m━━━━━━━━━━━━━━━━━━━━\u001b[0m\u001b[37m\u001b[0m \u001b[1m1s\u001b[0m 50ms/step - accuracy: 0.7697 - loss: 0.6552 - val_accuracy: 0.7188 - val_loss: 0.7935\n",
      "Epoch 10/10\n",
      "\u001b[1m16/16\u001b[0m \u001b[32m━━━━━━━━━━━━━━━━━━━━\u001b[0m\u001b[37m\u001b[0m \u001b[1m1s\u001b[0m 56ms/step - accuracy: 0.8175 - loss: 0.5678 - val_accuracy: 0.7254 - val_loss: 0.7844\n"
     ]
    }
   ],
   "source": [
    "# Train the new model on digits 5 to 9 using only 100 images per digit\n",
    "history = new_model.fit(X_train[:500], y_train[:500], epochs=10, validation_data=(X_test, y_test))"
   ]
  },
  {
   "cell_type": "code",
   "execution_count": 37,
   "id": "012eee0b-cba7-4dc5-8190-972b928f7b1d",
   "metadata": {
    "tags": []
   },
   "outputs": [
    {
     "name": "stdout",
     "output_type": "stream",
     "text": [
      "\u001b[1m152/152\u001b[0m \u001b[32m━━━━━━━━━━━━━━━━━━━━\u001b[0m\u001b[37m\u001b[0m \u001b[1m1s\u001b[0m 3ms/step - accuracy: 0.6996 - loss: 0.8503\n",
      "Test accuracy: 0.725365161895752\n"
     ]
    }
   ],
   "source": [
    "# Evaluate the trained model\n",
    "test_loss, test_acc = new_model.evaluate(X_test, y_test)\n",
    "print(f\"Test accuracy: {test_acc}\")"
   ]
  },
  {
   "cell_type": "code",
   "execution_count": 38,
   "id": "e8d32853-d109-4513-a83f-9f80ba08082d",
   "metadata": {
    "tags": []
   },
   "outputs": [
    {
     "name": "stdout",
     "output_type": "stream",
     "text": [
      "Epoch 1/10\n",
      "\u001b[1m16/16\u001b[0m \u001b[32m━━━━━━━━━━━━━━━━━━━━\u001b[0m\u001b[37m\u001b[0m \u001b[1m2s\u001b[0m 87ms/step - accuracy: 0.7979 - loss: 0.5965 - val_accuracy: 0.7461 - val_loss: 0.7336\n",
      "Epoch 2/10\n",
      "\u001b[1m16/16\u001b[0m \u001b[32m━━━━━━━━━━━━━━━━━━━━\u001b[0m\u001b[37m\u001b[0m \u001b[1m1s\u001b[0m 37ms/step - accuracy: 0.8617 - loss: 0.4614 - val_accuracy: 0.7521 - val_loss: 0.7091\n",
      "Epoch 3/10\n",
      "\u001b[1m16/16\u001b[0m \u001b[32m━━━━━━━━━━━━━━━━━━━━\u001b[0m\u001b[37m\u001b[0m \u001b[1m1s\u001b[0m 58ms/step - accuracy: 0.8489 - loss: 0.4907 - val_accuracy: 0.7638 - val_loss: 0.6945\n",
      "Epoch 4/10\n",
      "\u001b[1m16/16\u001b[0m \u001b[32m━━━━━━━━━━━━━━━━━━━━\u001b[0m\u001b[37m\u001b[0m \u001b[1m1s\u001b[0m 51ms/step - accuracy: 0.8509 - loss: 0.4207 - val_accuracy: 0.7801 - val_loss: 0.6619\n",
      "Epoch 5/10\n",
      "\u001b[1m16/16\u001b[0m \u001b[32m━━━━━━━━━━━━━━━━━━━━\u001b[0m\u001b[37m\u001b[0m \u001b[1m1s\u001b[0m 48ms/step - accuracy: 0.8480 - loss: 0.4302 - val_accuracy: 0.7842 - val_loss: 0.6506\n",
      "Epoch 6/10\n",
      "\u001b[1m16/16\u001b[0m \u001b[32m━━━━━━━━━━━━━━━━━━━━\u001b[0m\u001b[37m\u001b[0m \u001b[1m1s\u001b[0m 55ms/step - accuracy: 0.8522 - loss: 0.4366 - val_accuracy: 0.7922 - val_loss: 0.6301\n",
      "Epoch 7/10\n",
      "\u001b[1m16/16\u001b[0m \u001b[32m━━━━━━━━━━━━━━━━━━━━\u001b[0m\u001b[37m\u001b[0m \u001b[1m1s\u001b[0m 45ms/step - accuracy: 0.8438 - loss: 0.4336 - val_accuracy: 0.7963 - val_loss: 0.6149\n",
      "Epoch 8/10\n",
      "\u001b[1m16/16\u001b[0m \u001b[32m━━━━━━━━━━━━━━━━━━━━\u001b[0m\u001b[37m\u001b[0m \u001b[1m1s\u001b[0m 52ms/step - accuracy: 0.9057 - loss: 0.3060 - val_accuracy: 0.8033 - val_loss: 0.6009\n",
      "Epoch 9/10\n",
      "\u001b[1m16/16\u001b[0m \u001b[32m━━━━━━━━━━━━━━━━━━━━\u001b[0m\u001b[37m\u001b[0m \u001b[1m1s\u001b[0m 51ms/step - accuracy: 0.9041 - loss: 0.3182 - val_accuracy: 0.8093 - val_loss: 0.5847\n",
      "Epoch 10/10\n",
      "\u001b[1m16/16\u001b[0m \u001b[32m━━━━━━━━━━━━━━━━━━━━\u001b[0m\u001b[37m\u001b[0m \u001b[1m1s\u001b[0m 43ms/step - accuracy: 0.8999 - loss: 0.3115 - val_accuracy: 0.8126 - val_loss: 0.5737\n"
     ]
    }
   ],
   "source": [
    "# Try caching the frozen layers and train the model again\n",
    "new_model.layers[0].trainable = True\n",
    "new_model.compile(loss=\"sparse_categorical_crossentropy\", optimizer=\"sgd\", metrics=[\"accuracy\"])\n",
    "history = new_model.fit(X_train[:500], y_train[:500], epochs=10, validation_data=(X_test, y_test))"
   ]
  },
  {
   "cell_type": "code",
   "execution_count": 39,
   "id": "a0175a9c-1c40-41be-b387-1df575278dd3",
   "metadata": {
    "tags": []
   },
   "outputs": [
    {
     "name": "stdout",
     "output_type": "stream",
     "text": [
      "\u001b[1m152/152\u001b[0m \u001b[32m━━━━━━━━━━━━━━━━━━━━\u001b[0m\u001b[37m\u001b[0m \u001b[1m1s\u001b[0m 6ms/step - accuracy: 0.7915 - loss: 0.6378\n",
      "Test accuracy: 0.8125900030136108\n"
     ]
    }
   ],
   "source": [
    "# Evaluate the trained model again\n",
    "test_loss, test_acc = new_model.evaluate(X_test, y_test)\n",
    "print(f\"Test accuracy: {test_acc}\")"
   ]
  },
  {
   "cell_type": "code",
   "execution_count": 40,
   "id": "bbb2f251-1091-437a-b82d-a41636f6824e",
   "metadata": {
    "tags": []
   },
   "outputs": [
    {
     "name": "stdout",
     "output_type": "stream",
     "text": [
      "Epoch 1/10\n",
      "\u001b[1m16/16\u001b[0m \u001b[32m━━━━━━━━━━━━━━━━━━━━\u001b[0m\u001b[37m\u001b[0m \u001b[1m2s\u001b[0m 64ms/step - accuracy: 0.2836 - loss: 2.9407 - val_accuracy: 0.4915 - val_loss: 1.8192\n",
      "Epoch 2/10\n",
      "\u001b[1m16/16\u001b[0m \u001b[32m━━━━━━━━━━━━━━━━━━━━\u001b[0m\u001b[37m\u001b[0m \u001b[1m1s\u001b[0m 52ms/step - accuracy: 0.6126 - loss: 1.2647 - val_accuracy: 0.6015 - val_loss: 1.3881\n",
      "Epoch 3/10\n",
      "\u001b[1m16/16\u001b[0m \u001b[32m━━━━━━━━━━━━━━━━━━━━\u001b[0m\u001b[37m\u001b[0m \u001b[1m1s\u001b[0m 52ms/step - accuracy: 0.7517 - loss: 0.8705 - val_accuracy: 0.6478 - val_loss: 1.1668\n",
      "Epoch 4/10\n",
      "\u001b[1m16/16\u001b[0m \u001b[32m━━━━━━━━━━━━━━━━━━━━\u001b[0m\u001b[37m\u001b[0m \u001b[1m1s\u001b[0m 52ms/step - accuracy: 0.7616 - loss: 0.8124 - val_accuracy: 0.6752 - val_loss: 1.0540\n",
      "Epoch 5/10\n",
      "\u001b[1m16/16\u001b[0m \u001b[32m━━━━━━━━━━━━━━━━━━━━\u001b[0m\u001b[37m\u001b[0m \u001b[1m1s\u001b[0m 42ms/step - accuracy: 0.7712 - loss: 0.7716 - val_accuracy: 0.7029 - val_loss: 0.9562\n",
      "Epoch 6/10\n",
      "\u001b[1m16/16\u001b[0m \u001b[32m━━━━━━━━━━━━━━━━━━━━\u001b[0m\u001b[37m\u001b[0m \u001b[1m1s\u001b[0m 37ms/step - accuracy: 0.7758 - loss: 0.6934 - val_accuracy: 0.7167 - val_loss: 0.8979\n",
      "Epoch 7/10\n",
      "\u001b[1m16/16\u001b[0m \u001b[32m━━━━━━━━━━━━━━━━━━━━\u001b[0m\u001b[37m\u001b[0m \u001b[1m1s\u001b[0m 34ms/step - accuracy: 0.7966 - loss: 0.5815 - val_accuracy: 0.7336 - val_loss: 0.8335\n",
      "Epoch 8/10\n",
      "\u001b[1m16/16\u001b[0m \u001b[32m━━━━━━━━━━━━━━━━━━━━\u001b[0m\u001b[37m\u001b[0m \u001b[1m1s\u001b[0m 40ms/step - accuracy: 0.7791 - loss: 0.6371 - val_accuracy: 0.7426 - val_loss: 0.7994\n",
      "Epoch 9/10\n",
      "\u001b[1m16/16\u001b[0m \u001b[32m━━━━━━━━━━━━━━━━━━━━\u001b[0m\u001b[37m\u001b[0m \u001b[1m1s\u001b[0m 37ms/step - accuracy: 0.8027 - loss: 0.5977 - val_accuracy: 0.7599 - val_loss: 0.7564\n",
      "Epoch 10/10\n",
      "\u001b[1m16/16\u001b[0m \u001b[32m━━━━━━━━━━━━━━━━━━━━\u001b[0m\u001b[37m\u001b[0m \u001b[1m1s\u001b[0m 37ms/step - accuracy: 0.8371 - loss: 0.4770 - val_accuracy: 0.7694 - val_loss: 0.7298\n"
     ]
    }
   ],
   "source": [
    "# Try again reusing just four hidden layers instead of five\n",
    "new_model2 = keras.models.Sequential(pretrained_model.layers[:-2])\n",
    "for layer in new_model2.layers:\n",
    "    layer.trainable = False\n",
    "new_model2.add(keras.layers.Dense(5, activation=\"softmax\"))\n",
    "new_model2.compile(loss=\"sparse_categorical_crossentropy\", optimizer=\"sgd\", metrics=[\"accuracy\"])\n",
    "history = new_model2.fit(X_train[:500], y_train[:500], epochs=10, validation_data=(X_test, y_test))"
   ]
  },
  {
   "cell_type": "code",
   "execution_count": 42,
   "id": "933f3511-76e2-4d3e-9946-23f1359a159c",
   "metadata": {},
   "outputs": [
    {
     "data": {
      "text/html": [
       "<pre style=\"white-space:pre;overflow-x:auto;line-height:normal;font-family:Menlo,'DejaVu Sans Mono',consolas,'Courier New',monospace\"><span style=\"font-weight: bold\">Model: \"sequential_2\"</span>\n",
       "</pre>\n"
      ],
      "text/plain": [
       "\u001b[1mModel: \"sequential_2\"\u001b[0m\n"
      ]
     },
     "metadata": {},
     "output_type": "display_data"
    },
    {
     "data": {
      "text/html": [
       "<pre style=\"white-space:pre;overflow-x:auto;line-height:normal;font-family:Menlo,'DejaVu Sans Mono',consolas,'Courier New',monospace\">┏━━━━━━━━━━━━━━━━━━━━━━━━━━━━━━━━━━━━━━┳━━━━━━━━━━━━━━━━━━━━━━━━━━━━━┳━━━━━━━━━━━━━━━━━┓\n",
       "┃<span style=\"font-weight: bold\"> Layer (type)                         </span>┃<span style=\"font-weight: bold\"> Output Shape                </span>┃<span style=\"font-weight: bold\">         Param # </span>┃\n",
       "┡━━━━━━━━━━━━━━━━━━━━━━━━━━━━━━━━━━━━━━╇━━━━━━━━━━━━━━━━━━━━━━━━━━━━━╇━━━━━━━━━━━━━━━━━┩\n",
       "│ dense_21 (<span style=\"color: #0087ff; text-decoration-color: #0087ff\">Dense</span>)                     │ (<span style=\"color: #00d7ff; text-decoration-color: #00d7ff\">None</span>, <span style=\"color: #00af00; text-decoration-color: #00af00\">100</span>)                 │          <span style=\"color: #00af00; text-decoration-color: #00af00\">78,500</span> │\n",
       "├──────────────────────────────────────┼─────────────────────────────┼─────────────────┤\n",
       "│ dense_22 (<span style=\"color: #0087ff; text-decoration-color: #0087ff\">Dense</span>)                     │ (<span style=\"color: #00d7ff; text-decoration-color: #00d7ff\">None</span>, <span style=\"color: #00af00; text-decoration-color: #00af00\">100</span>)                 │          <span style=\"color: #00af00; text-decoration-color: #00af00\">10,100</span> │\n",
       "├──────────────────────────────────────┼─────────────────────────────┼─────────────────┤\n",
       "│ dense_23 (<span style=\"color: #0087ff; text-decoration-color: #0087ff\">Dense</span>)                     │ (<span style=\"color: #00d7ff; text-decoration-color: #00d7ff\">None</span>, <span style=\"color: #00af00; text-decoration-color: #00af00\">100</span>)                 │          <span style=\"color: #00af00; text-decoration-color: #00af00\">10,100</span> │\n",
       "├──────────────────────────────────────┼─────────────────────────────┼─────────────────┤\n",
       "│ dense_24 (<span style=\"color: #0087ff; text-decoration-color: #0087ff\">Dense</span>)                     │ (<span style=\"color: #00d7ff; text-decoration-color: #00d7ff\">None</span>, <span style=\"color: #00af00; text-decoration-color: #00af00\">100</span>)                 │          <span style=\"color: #00af00; text-decoration-color: #00af00\">10,100</span> │\n",
       "├──────────────────────────────────────┼─────────────────────────────┼─────────────────┤\n",
       "│ dense_2 (<span style=\"color: #0087ff; text-decoration-color: #0087ff\">Dense</span>)                      │ (<span style=\"color: #00d7ff; text-decoration-color: #00d7ff\">None</span>, <span style=\"color: #00af00; text-decoration-color: #00af00\">5</span>)                   │             <span style=\"color: #00af00; text-decoration-color: #00af00\">505</span> │\n",
       "└──────────────────────────────────────┴─────────────────────────────┴─────────────────┘\n",
       "</pre>\n"
      ],
      "text/plain": [
       "┏━━━━━━━━━━━━━━━━━━━━━━━━━━━━━━━━━━━━━━┳━━━━━━━━━━━━━━━━━━━━━━━━━━━━━┳━━━━━━━━━━━━━━━━━┓\n",
       "┃\u001b[1m \u001b[0m\u001b[1mLayer (type)                        \u001b[0m\u001b[1m \u001b[0m┃\u001b[1m \u001b[0m\u001b[1mOutput Shape               \u001b[0m\u001b[1m \u001b[0m┃\u001b[1m \u001b[0m\u001b[1m        Param #\u001b[0m\u001b[1m \u001b[0m┃\n",
       "┡━━━━━━━━━━━━━━━━━━━━━━━━━━━━━━━━━━━━━━╇━━━━━━━━━━━━━━━━━━━━━━━━━━━━━╇━━━━━━━━━━━━━━━━━┩\n",
       "│ dense_21 (\u001b[38;5;33mDense\u001b[0m)                     │ (\u001b[38;5;45mNone\u001b[0m, \u001b[38;5;34m100\u001b[0m)                 │          \u001b[38;5;34m78,500\u001b[0m │\n",
       "├──────────────────────────────────────┼─────────────────────────────┼─────────────────┤\n",
       "│ dense_22 (\u001b[38;5;33mDense\u001b[0m)                     │ (\u001b[38;5;45mNone\u001b[0m, \u001b[38;5;34m100\u001b[0m)                 │          \u001b[38;5;34m10,100\u001b[0m │\n",
       "├──────────────────────────────────────┼─────────────────────────────┼─────────────────┤\n",
       "│ dense_23 (\u001b[38;5;33mDense\u001b[0m)                     │ (\u001b[38;5;45mNone\u001b[0m, \u001b[38;5;34m100\u001b[0m)                 │          \u001b[38;5;34m10,100\u001b[0m │\n",
       "├──────────────────────────────────────┼─────────────────────────────┼─────────────────┤\n",
       "│ dense_24 (\u001b[38;5;33mDense\u001b[0m)                     │ (\u001b[38;5;45mNone\u001b[0m, \u001b[38;5;34m100\u001b[0m)                 │          \u001b[38;5;34m10,100\u001b[0m │\n",
       "├──────────────────────────────────────┼─────────────────────────────┼─────────────────┤\n",
       "│ dense_2 (\u001b[38;5;33mDense\u001b[0m)                      │ (\u001b[38;5;45mNone\u001b[0m, \u001b[38;5;34m5\u001b[0m)                   │             \u001b[38;5;34m505\u001b[0m │\n",
       "└──────────────────────────────────────┴─────────────────────────────┴─────────────────┘\n"
      ]
     },
     "metadata": {},
     "output_type": "display_data"
    },
    {
     "data": {
      "text/html": [
       "<pre style=\"white-space:pre;overflow-x:auto;line-height:normal;font-family:Menlo,'DejaVu Sans Mono',consolas,'Courier New',monospace\"><span style=\"font-weight: bold\"> Total params: </span><span style=\"color: #00af00; text-decoration-color: #00af00\">109,307</span> (426.98 KB)\n",
       "</pre>\n"
      ],
      "text/plain": [
       "\u001b[1m Total params: \u001b[0m\u001b[38;5;34m109,307\u001b[0m (426.98 KB)\n"
      ]
     },
     "metadata": {},
     "output_type": "display_data"
    },
    {
     "data": {
      "text/html": [
       "<pre style=\"white-space:pre;overflow-x:auto;line-height:normal;font-family:Menlo,'DejaVu Sans Mono',consolas,'Courier New',monospace\"><span style=\"font-weight: bold\"> Trainable params: </span><span style=\"color: #00af00; text-decoration-color: #00af00\">505</span> (1.97 KB)\n",
       "</pre>\n"
      ],
      "text/plain": [
       "\u001b[1m Trainable params: \u001b[0m\u001b[38;5;34m505\u001b[0m (1.97 KB)\n"
      ]
     },
     "metadata": {},
     "output_type": "display_data"
    },
    {
     "data": {
      "text/html": [
       "<pre style=\"white-space:pre;overflow-x:auto;line-height:normal;font-family:Menlo,'DejaVu Sans Mono',consolas,'Courier New',monospace\"><span style=\"font-weight: bold\"> Non-trainable params: </span><span style=\"color: #00af00; text-decoration-color: #00af00\">108,800</span> (425.00 KB)\n",
       "</pre>\n"
      ],
      "text/plain": [
       "\u001b[1m Non-trainable params: \u001b[0m\u001b[38;5;34m108,800\u001b[0m (425.00 KB)\n"
      ]
     },
     "metadata": {},
     "output_type": "display_data"
    },
    {
     "data": {
      "text/html": [
       "<pre style=\"white-space:pre;overflow-x:auto;line-height:normal;font-family:Menlo,'DejaVu Sans Mono',consolas,'Courier New',monospace\"><span style=\"font-weight: bold\"> Optimizer params: </span><span style=\"color: #00af00; text-decoration-color: #00af00\">2</span> (12.00 B)\n",
       "</pre>\n"
      ],
      "text/plain": [
       "\u001b[1m Optimizer params: \u001b[0m\u001b[38;5;34m2\u001b[0m (12.00 B)\n"
      ]
     },
     "metadata": {},
     "output_type": "display_data"
    }
   ],
   "source": [
    "new_model2.summary()"
   ]
  },
  {
   "cell_type": "code",
   "execution_count": 41,
   "id": "280f42c2-0a48-4694-a5e7-c1e016604264",
   "metadata": {
    "tags": []
   },
   "outputs": [
    {
     "name": "stdout",
     "output_type": "stream",
     "text": [
      "\u001b[1m152/152\u001b[0m \u001b[32m━━━━━━━━━━━━━━━━━━━━\u001b[0m\u001b[37m\u001b[0m \u001b[1m1s\u001b[0m 6ms/step - accuracy: 0.7421 - loss: 0.8107\n",
      "Test accuracy: 0.7693890333175659\n"
     ]
    }
   ],
   "source": [
    "# Evaluate the trained model again\n",
    "test_loss, test_acc = new_model2.evaluate(X_test, y_test)\n",
    "print(f\"Test accuracy: {test_acc}\")"
   ]
  },
  {
   "cell_type": "code",
   "execution_count": 43,
   "id": "50cd9c48-71fa-4dad-ba0d-699665ea87a2",
   "metadata": {
    "tags": []
   },
   "outputs": [
    {
     "name": "stdout",
     "output_type": "stream",
     "text": [
      "Epoch 1/10\n",
      "\u001b[1m16/16\u001b[0m \u001b[32m━━━━━━━━━━━━━━━━━━━━\u001b[0m\u001b[37m\u001b[0m \u001b[1m2s\u001b[0m 59ms/step - accuracy: 0.8594 - loss: 0.4143 - val_accuracy: 0.7895 - val_loss: 0.6618\n",
      "Epoch 2/10\n",
      "\u001b[1m16/16\u001b[0m \u001b[32m━━━━━━━━━━━━━━━━━━━━\u001b[0m\u001b[37m\u001b[0m \u001b[1m1s\u001b[0m 43ms/step - accuracy: 0.8615 - loss: 0.4233 - val_accuracy: 0.7967 - val_loss: 0.6367\n",
      "Epoch 3/10\n",
      "\u001b[1m16/16\u001b[0m \u001b[32m━━━━━━━━━━━━━━━━━━━━\u001b[0m\u001b[37m\u001b[0m \u001b[1m1s\u001b[0m 44ms/step - accuracy: 0.8643 - loss: 0.4111 - val_accuracy: 0.8035 - val_loss: 0.6028\n",
      "Epoch 4/10\n",
      "\u001b[1m16/16\u001b[0m \u001b[32m━━━━━━━━━━━━━━━━━━━━\u001b[0m\u001b[37m\u001b[0m \u001b[1m1s\u001b[0m 63ms/step - accuracy: 0.8641 - loss: 0.3792 - val_accuracy: 0.8083 - val_loss: 0.5868\n",
      "Epoch 5/10\n",
      "\u001b[1m16/16\u001b[0m \u001b[32m━━━━━━━━━━━━━━━━━━━━\u001b[0m\u001b[37m\u001b[0m \u001b[1m1s\u001b[0m 53ms/step - accuracy: 0.9082 - loss: 0.3141 - val_accuracy: 0.8190 - val_loss: 0.5487\n",
      "Epoch 6/10\n",
      "\u001b[1m16/16\u001b[0m \u001b[32m━━━━━━━━━━━━━━━━━━━━\u001b[0m\u001b[37m\u001b[0m \u001b[1m1s\u001b[0m 56ms/step - accuracy: 0.9079 - loss: 0.2732 - val_accuracy: 0.8231 - val_loss: 0.5391\n",
      "Epoch 7/10\n",
      "\u001b[1m16/16\u001b[0m \u001b[32m━━━━━━━━━━━━━━━━━━━━\u001b[0m\u001b[37m\u001b[0m \u001b[1m1s\u001b[0m 50ms/step - accuracy: 0.8917 - loss: 0.3030 - val_accuracy: 0.8356 - val_loss: 0.5103\n",
      "Epoch 8/10\n",
      "\u001b[1m16/16\u001b[0m \u001b[32m━━━━━━━━━━━━━━━━━━━━\u001b[0m\u001b[37m\u001b[0m \u001b[1m1s\u001b[0m 55ms/step - accuracy: 0.9353 - loss: 0.2132 - val_accuracy: 0.8400 - val_loss: 0.5009\n",
      "Epoch 9/10\n",
      "\u001b[1m16/16\u001b[0m \u001b[32m━━━━━━━━━━━━━━━━━━━━\u001b[0m\u001b[37m\u001b[0m \u001b[1m1s\u001b[0m 36ms/step - accuracy: 0.9230 - loss: 0.2289 - val_accuracy: 0.8422 - val_loss: 0.4927\n",
      "Epoch 10/10\n",
      "\u001b[1m16/16\u001b[0m \u001b[32m━━━━━━━━━━━━━━━━━━━━\u001b[0m\u001b[37m\u001b[0m \u001b[1m1s\u001b[0m 47ms/step - accuracy: 0.9255 - loss: 0.2095 - val_accuracy: 0.8441 - val_loss: 0.4848\n"
     ]
    }
   ],
   "source": [
    "# Now unfreeze the top two hidden layers and continue training\n",
    "for layer in new_model2.layers[-3:]:\n",
    "    layer.trainable = True\n",
    "new_model2.compile(loss=\"sparse_categorical_crossentropy\", optimizer=\"sgd\", metrics=[\"accuracy\"])\n",
    "history = new_model2.fit(X_train[:500], y_train[:500], epochs=10, validation_data=(X_test, y_test))"
   ]
  },
  {
   "cell_type": "code",
   "execution_count": 44,
   "id": "db44f4be-d7b7-4d8a-9894-e1031d1130fd",
   "metadata": {
    "tags": []
   },
   "outputs": [
    {
     "name": "stdout",
     "output_type": "stream",
     "text": [
      "\u001b[1m152/152\u001b[0m \u001b[32m━━━━━━━━━━━━━━━━━━━━\u001b[0m\u001b[37m\u001b[0m \u001b[1m1s\u001b[0m 4ms/step - accuracy: 0.8238 - loss: 0.5443\n",
      "Test accuracy: 0.8440650105476379\n"
     ]
    }
   ],
   "source": [
    "# Evaluate the trained model again\n",
    "test_loss, test_acc = new_model2.evaluate(X_test, y_test)\n",
    "print(f\"Test accuracy: {test_acc}\")"
   ]
  },
  {
   "cell_type": "markdown",
   "id": "9d63bc8f-2ebe-4aec-b990-3a3540bd4320",
   "metadata": {},
   "source": [
    "**3. Pretraining on an auxiliary task.**\n",
    "\n",
    "**a. In this exercise you will build a DNN that compares two MNIST digit images and predicts whether they represent the same digit or not. Then you will reuse the lower layers of this network to train an MNIST classifier using very little training data. Start by building two DNNs (let’s call them DNN A and B), both similar to the one you built earlier but without the output layer: each DNN should have five hidden layers of 100 neurons each, He initialization, and ELU activation. Next, add one more hidden layer with 10 units on top of both DNNs. To do this, you should use TensorFlow’s concat() function with axis=1 to concatenate the outputs of both DNNs for each instance, then feed the result to the hidden layer. Finally, add an output layer with a single neuron using the logistic activation function.**\n",
    "\n",
    "**b. Split the MNIST training set in two sets: split #1 should containing 55,000 images, and split #2 should contain contain 5,000 images. Create a function that generates a training batch where each instance is a pair of MNIST images picked from split #1. Half of the training instances should be pairs of images that belong to the same class, while the other half should be images from different classes. For each pair, the training label should be 0 if the images are from the same class, or 1 if they are from different classes.**\n",
    "\n",
    "**c. Train the DNN on this training set. For each image pair, you can simultaneously feed the first image to DNN A and the second image to DNN B. The whole network will gradually learn to tell whether two images belong to the same class or not.**\n",
    "\n",
    "**d. Now create a new DNN by reusing and freezing the hidden layers of DNN A and adding a softmax output layer on top with 10 neurons. Train this network on split #2 and see if you can achieve high performance despite having only 500 images per class.**"
   ]
  },
  {
   "cell_type": "code",
   "execution_count": 99,
   "id": "7ef1524b-cbe4-49b8-958f-e9e378bf8fa9",
   "metadata": {},
   "outputs": [],
   "source": [
    "import tensorflow as tf\n",
    "from tensorflow import keras\n",
    "import numpy as np"
   ]
  },
  {
   "cell_type": "code",
   "execution_count": 100,
   "id": "e4968197-ff63-4cc5-be58-cb5f990dc413",
   "metadata": {},
   "outputs": [],
   "source": [
    "# Load the MNIST dataset and split it into two sets\n",
    "(X_train_full, y_train_full), (X_test, y_test) = keras.datasets.mnist.load_data()\n",
    "X_train_full = X_train_full.astype(np.float32) / 255\n",
    "X_test = X_test.astype(np.float32) / 255\n",
    "X_train1 = X_train_full[:55000]\n",
    "y_train1 = y_train_full[:55000]\n",
    "X_train2 = X_train_full[55000:]\n",
    "y_train2 = y_train_full[55000:]"
   ]
  },
  {
   "cell_type": "code",
   "execution_count": 101,
   "id": "5243eedd-40cc-40e6-a815-4c0a5c8924f6",
   "metadata": {},
   "outputs": [],
   "source": [
    "# Define a function to generate a training batch where each instance is a pair of MNIST images\n",
    "def generate_batch(batch_size):\n",
    "    X_batch1 = np.empty((batch_size, 28, 28), dtype=np.float32)\n",
    "    X_batch2 = np.empty((batch_size, 28, 28), dtype=np.float32)\n",
    "    y_batch = np.empty((batch_size, 1), dtype=np.int32)\n",
    "    for i in range(batch_size):\n",
    "        index1 = np.random.randint(len(X_train1))\n",
    "        X_batch1[i] = X_train1[index1]\n",
    "        if i % 2 == 0:\n",
    "            # Images from the same class\n",
    "            index2 = index1\n",
    "            while index2 == index1:\n",
    "                index2 = np.random.randint(len(X_train1))\n",
    "                if y_train1[index2] == y_train1[index1]:\n",
    "                    break\n",
    "            y_batch[i] = 0\n",
    "        else:\n",
    "            # Images from different classes\n",
    "            index2 = index1\n",
    "            while index2 == index1 or y_train1[index2] == y_train1[index1]:\n",
    "                index2 = np.random.randint(len(X_train1))\n",
    "            y_batch[i] = 1\n",
    "        X_batch2[i] = X_train1[index2]\n",
    "    return [X_batch1, X_batch2], y_batch"
   ]
  },
  {
   "cell_type": "code",
   "execution_count": 102,
   "id": "070b9bf0-b03b-4c15-a593-b532ad4f5840",
   "metadata": {},
   "outputs": [],
   "source": [
    "# Build two DNNs (let’s call them DNN A and B), both similar to the one you built earlier but without the output layer\n",
    "def build_dnn():\n",
    "    model = keras.models.Sequential()\n",
    "    model.add(keras.layers.Flatten(input_shape=[28, 28]))\n",
    "    for _ in range(5):\n",
    "        model.add(keras.layers.Dense(100, activation=\"elu\", kernel_initializer=\"he_normal\"))\n",
    "    return model\n",
    "\n",
    "dnn_a = build_dnn()\n",
    "dnn_b = build_dnn()"
   ]
  },
  {
   "cell_type": "code",
   "execution_count": 104,
   "id": "50ae7b67-cc8e-4da7-aaae-49c055d6c6b3",
   "metadata": {},
   "outputs": [],
   "source": [
    "# Use the Functional API to merge their outputs\n",
    "input_a = Input(shape=(28, 28))\n",
    "input_b = Input(shape=(28, 28))\n",
    "\n",
    "# Call the Sequential models on the inputs\n",
    "output_a = dnn_a(input_a)\n",
    "output_b = dnn_b(input_b)"
   ]
  },
  {
   "cell_type": "code",
   "execution_count": 105,
   "id": "810485ee-7a1a-499c-82a9-ec5e3bcf2f3a",
   "metadata": {},
   "outputs": [],
   "source": [
    "# Add one more hidden layer with 10 units on top of both DNNs\n",
    "merged_output = keras.layers.concatenate([dnn_a.output, dnn_b.output])\n",
    "hidden_layer = keras.layers.Dense(10, activation=\"elu\", kernel_initializer=\"he_normal\")(merged_output)"
   ]
  },
  {
   "cell_type": "code",
   "execution_count": 106,
   "id": "63fbe86a-81da-460b-9ef2-66604a30922c",
   "metadata": {},
   "outputs": [],
   "source": [
    "# Add an output layer with a single neuron using the logistic activation function\n",
    "output_layer = keras.layers.Dense(1, activation=\"sigmoid\")(hidden_layer)"
   ]
  },
  {
   "cell_type": "code",
   "execution_count": 107,
   "id": "77f9cbbe-68fe-414b-a488-909609f93163",
   "metadata": {},
   "outputs": [],
   "source": [
    "# Create a new model that takes two MNIST images as inputs and outputs a single value representing whether the images belong to the same class or not\n",
    "model = keras.models.Model(inputs=[dnn_a.input, dnn_b.input], outputs=[output_layer])"
   ]
  },
  {
   "cell_type": "code",
   "execution_count": 108,
   "id": "0a1a1071-6fb6-41ea-94f7-2f2187ba35bc",
   "metadata": {},
   "outputs": [],
   "source": [
    "# Compile the model\n",
    "model.compile(loss=\"binary_crossentropy\", optimizer=\"nadam\", metrics=[\"accuracy\"])"
   ]
  },
  {
   "cell_type": "code",
   "execution_count": null,
   "id": "03c637ca-1317-4db2-accf-6ff0c7d0ab49",
   "metadata": {},
   "outputs": [
    {
     "name": "stdout",
     "output_type": "stream",
     "text": [
      "WARNING:tensorflow:5 out of the last 9004 calls to <function TensorFlowTrainer.make_train_function.<locals>.one_step_on_iterator at 0x000001F600C45F80> triggered tf.function retracing. Tracing is expensive and the excessive number of tracings could be due to (1) creating @tf.function repeatedly in a loop, (2) passing tensors with different shapes, (3) passing Python objects instead of tensors. For (1), please define your @tf.function outside of the loop. For (2), @tf.function has reduce_retracing=True option that can avoid unnecessary retracing. For (3), please refer to https://www.tensorflow.org/guide/function#controlling_retracing and https://www.tensorflow.org/api_docs/python/tf/function for  more details.\n"
     ]
    },
    {
     "name": "stderr",
     "output_type": "stream",
     "text": [
      "WARNING:tensorflow:5 out of the last 9004 calls to <function TensorFlowTrainer.make_train_function.<locals>.one_step_on_iterator at 0x000001F600C45F80> triggered tf.function retracing. Tracing is expensive and the excessive number of tracings could be due to (1) creating @tf.function repeatedly in a loop, (2) passing tensors with different shapes, (3) passing Python objects instead of tensors. For (1), please define your @tf.function outside of the loop. For (2), @tf.function has reduce_retracing=True option that can avoid unnecessary retracing. For (3), please refer to https://www.tensorflow.org/guide/function#controlling_retracing and https://www.tensorflow.org/api_docs/python/tf/function for  more details.\n"
     ]
    },
    {
     "name": "stdout",
     "output_type": "stream",
     "text": [
      "WARNING:tensorflow:6 out of the last 9005 calls to <function TensorFlowTrainer.make_train_function.<locals>.one_step_on_iterator at 0x000001F600C45F80> triggered tf.function retracing. Tracing is expensive and the excessive number of tracings could be due to (1) creating @tf.function repeatedly in a loop, (2) passing tensors with different shapes, (3) passing Python objects instead of tensors. For (1), please define your @tf.function outside of the loop. For (2), @tf.function has reduce_retracing=True option that can avoid unnecessary retracing. For (3), please refer to https://www.tensorflow.org/guide/function#controlling_retracing and https://www.tensorflow.org/api_docs/python/tf/function for  more details.\n"
     ]
    },
    {
     "name": "stderr",
     "output_type": "stream",
     "text": [
      "WARNING:tensorflow:6 out of the last 9005 calls to <function TensorFlowTrainer.make_train_function.<locals>.one_step_on_iterator at 0x000001F600C45F80> triggered tf.function retracing. Tracing is expensive and the excessive number of tracings could be due to (1) creating @tf.function repeatedly in a loop, (2) passing tensors with different shapes, (3) passing Python objects instead of tensors. For (1), please define your @tf.function outside of the loop. For (2), @tf.function has reduce_retracing=True option that can avoid unnecessary retracing. For (3), please refer to https://www.tensorflow.org/guide/function#controlling_retracing and https://www.tensorflow.org/api_docs/python/tf/function for  more details.\n"
     ]
    }
   ],
   "source": [
    "# Train the DNN on this training set\n",
    "batch_size = 32\n",
    "for epoch in range(10):\n",
    "    for iteration in range(len(X_train1) // batch_size):\n",
    "        X_batch, y_batch = generate_batch(batch_size)\n",
    "        model.train_on_batch(X_batch, y_batch)"
   ]
  },
  {
   "cell_type": "code",
   "execution_count": null,
   "id": "ff914b3a-75f5-4773-b123-dd972691bd30",
   "metadata": {},
   "outputs": [],
   "source": [
    "# Create a new DNN by reusing and freezing the hidden layers of DNN A and adding a softmax output layer on top with 10 neurons\n",
    "new_model = keras.models.Sequential(dnn_a.layers[:-1])\n",
    "for layer in new_model.layers:\n",
    "    layer.trainable = False\n",
    "\n",
    "new_model.add(keras.layers.Dense(10, activation=\"softmax\"))"
   ]
  },
  {
   "cell_type": "code",
   "execution_count": null,
   "id": "f442691a-0986-4ea5-a299-4e8f630fe6e8",
   "metadata": {},
   "outputs": [],
   "source": [
    "# Compile the new model\n",
    "new_model.compile(loss=\"sparse_categorical_crossentropy\", optimizer=\"nadam\", metrics=[\"accuracy\"])"
   ]
  },
  {
   "cell_type": "code",
   "execution_count": null,
   "id": "5a276d17-b751-48cd-b517-47dae4e0a682",
   "metadata": {},
   "outputs": [],
   "source": [
    "# Train this network on split #2 and see if you can achieve high performance despite having only 500 images per class\n",
    "history = new_model.fit(X_train2, y_train2, epochs=10)"
   ]
  },
  {
   "cell_type": "code",
   "execution_count": null,
   "id": "ba56b82c-88a5-4da7-87f0-5d0eec19c856",
   "metadata": {},
   "outputs": [],
   "source": [
    "# Evaluate the trained model on the test set\n",
    "test_loss, test_acc = new_model.evaluate(X_test, y_test)\n",
    "print(f\"Test accuracy: {test_acc}\")"
   ]
  },
  {
   "cell_type": "code",
   "execution_count": null,
   "id": "d56df42c-43ac-4809-ac1e-6ba484aad145",
   "metadata": {},
   "outputs": [],
   "source": []
  }
 ],
 "metadata": {
  "accelerator": "GPU",
  "colab": {
   "provenance": []
  },
  "gpuClass": "standard",
  "kernelspec": {
   "display_name": "Python 3 (ipykernel)",
   "language": "python",
   "name": "python3"
  },
  "language_info": {
   "codemirror_mode": {
    "name": "ipython",
    "version": 3
   },
   "file_extension": ".py",
   "mimetype": "text/x-python",
   "name": "python",
   "nbconvert_exporter": "python",
   "pygments_lexer": "ipython3",
   "version": "3.11.7"
  }
 },
 "nbformat": 4,
 "nbformat_minor": 5
}
