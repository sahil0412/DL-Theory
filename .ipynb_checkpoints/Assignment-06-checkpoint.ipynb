{
 "cells": [
  {
   "cell_type": "markdown",
   "id": "06f10b11-8e8d-4a78-af31-42d3d40bacc8",
   "metadata": {
    "id": "06f10b11-8e8d-4a78-af31-42d3d40bacc8"
   },
   "source": [
    "# Assignment 6 Solution"
   ]
  },
  {
   "cell_type": "markdown",
   "id": "00ec14db-ff40-44a7-95d2-8304cbb05ef8",
   "metadata": {
    "id": "00ec14db-ff40-44a7-95d2-8304cbb05ef8"
   },
   "source": [
    "**1. What are the advantages of a CNN over a fully connected DNN for image classification?**"
   ]
  },
  {
   "cell_type": "markdown",
   "id": "593c14d3-bedd-4c8d-b487-b786c92fa246",
   "metadata": {
    "id": "593c14d3-bedd-4c8d-b487-b786c92fa246"
   },
   "source": [
    "**Ans:** Convolutional Neural Networks (CNNs) have several advantages over fully connected Deep Neural Networks (DNNs) for image classification. Here are some of the main advantages:\n",
    "\n",
    "1. Parameter efficiency: CNNs use shared weights and biases for the convolutional layers, which greatly reduces the number of parameters compared to fully connected DNNs. This makes CNNs more efficient for processing large images and reduces the risk of overfitting.\n",
    "\n",
    "2. Translation invariance: CNNs are designed to recognize patterns and features within an image regardless of their location, making them translation invariant. This is achieved through the use of convolutional layers that slide filters over the image to detect patterns in a local area. This property makes CNNs well-suited for image classification tasks where the object of interest can be anywhere in the image.\n",
    "\n",
    "3. Hierarchical feature learning: CNNs use multiple layers of feature extraction to learn hierarchical representations of images. This allows the network to learn high-level concepts, such as object categories, from low-level features, such as edges and corners. In contrast, fully connected DNNs treat all input features as independent and do not capture the spatial relationships between them.\n",
    "\n",
    "4. Robustness to input variations: CNNs are designed to be robust to variations in the input, such as changes in lighting, rotation, and scale. This is achieved through the use of techniques such as pooling, which reduces the sensitivity of the network to small changes in the input.\n",
    "\n",
    "Overall, the advantages of CNNs over fully connected DNNs make them the state-of-the-art approach for image classification tasks."
   ]
  },
  {
   "cell_type": "markdown",
   "id": "d8706546-a9c0-470d-a8e2-24799ca9f469",
   "metadata": {
    "id": "d8706546-a9c0-470d-a8e2-24799ca9f469"
   },
   "source": [
    "**2. Consider a CNN composed of three convolutional layers, each with 3 × 3 kernels, a stride of 2, and \"same\" padding. The lowest layer outputs 100 feature maps, the middle one outputs 200, and the top one outputs 400. The input images are RGB images of 200 × 300 pixels. What is the total number of parameters in the CNN? If we are using 32-bit floats, at least how much RAM will this network require when making a prediction for a single instance? What about when\n",
    "training on a mini-batch of 50 images?**"
   ]
  },
  {
   "cell_type": "markdown",
   "id": "d69d5959-1094-42b8-990f-2431d361de3f",
   "metadata": {
    "id": "d69d5959-1094-42b8-990f-2431d361de3f"
   },
   "source": [
    "**Ans:** To calculate the total number of parameters in the CNN, we need to count the number of parameters in each layer and then sum them up. The number of parameters in a convolutional layer depends on the number of filters, the size of the filters, and the number of input channels. The formula for calculating the number of parameters in a convolutional layer is:\n",
    "\n",
    "number of parameters = (size of filter * number of input channels + 1) * number of filters\n",
    "\n",
    "Using the given information, we can calculate the number of parameters in each convolutional layer:\n",
    "\n",
    "* The first convolutional layer has 3x3x3x100 + 100 = 2,800 parameters\n",
    "* The second convolutional layer has 3x3x100x200 + 200 = 180,200 parameters\n",
    "* The third convolutional layer has 3x3x200x400 + 400 = 1,160,400 parameters\n",
    "\n",
    "Therefore, the total number of parameters in the CNN is 2,800 + 180,200 + 1,160,400 = 1,343,400 parameters.\n",
    "\n",
    "To calculate the amount of RAM required for prediction or training, we need to consider the size of the input and output tensors and the data type being used. Assuming we are using 32-bit floats (4 bytes), the size of the input tensor for a single image is 200x300x3 = 180,000 bytes. The size of the output tensor for a single image is (200/8)x(300/8)x400x4 = 6,000,000 bytes. Therefore, the total RAM required for prediction for a single instance is approximately 6,180,000 bytes (6.18 MB).\n",
    "\n",
    "If we are training on a mini-batch of 50 images, the total RAM required would be 50 times the RAM required for a single instance, which is approximately 309 MB. However, this is just the memory required for storing the input and output tensors during one forward pass of the network. The actual amount of memory required for training will depend on the batch size, the size of the model, the optimizer being used, and other factors."
   ]
  },
  {
   "cell_type": "markdown",
   "id": "b98d3e4a-d16e-422f-b655-e1fa93a3aafa",
   "metadata": {
    "id": "b98d3e4a-d16e-422f-b655-e1fa93a3aafa"
   },
   "source": [
    "**3. If your GPU runs out of memory while training a CNN, what are five things you could try to\n",
    "solve the problem?**"
   ]
  },
  {
   "cell_type": "markdown",
   "id": "9a879e28-5330-42ed-a391-df1ec179ef89",
   "metadata": {
    "id": "9a879e28-5330-42ed-a391-df1ec179ef89"
   },
   "source": [
    "**Ans:** If your GPU runs out of memory while training a CNN, here are five things you could try to solve the problem:\n",
    "\n",
    "1. Decrease batch size: One of the most effective ways to reduce memory usage is to decrease the batch size. This will reduce the number of samples being processed simultaneously, which in turn reduces the amount of memory required.\n",
    "\n",
    "2. Reduce input size: If the input images are very large, downsampling them to a smaller size can also reduce the memory requirements. However, this may come at the cost of reduced performance or accuracy.\n",
    "\n",
    "3. Use mixed precision training: Using mixed precision training, where the weights and activations are stored using 16-bit floating point numbers instead of 32-bit, can significantly reduce memory usage without sacrificing accuracy.\n",
    "\n",
    "4. Reduce model complexity: Another way to reduce memory usage is to reduce the complexity of the model. This can be done by reducing the number of layers, filters, or neurons in the network, or by using a smaller kernel size.\n",
    "\n",
    "5. Use gradient checkpointing: Gradient checkpointing is a technique that trades off computation time for memory usage. Instead of storing all the intermediate activations during the forward pass for use during the backward pass, only a subset of the activations are stored. This reduces memory usage, but increases computation time during the backward pass.\n",
    "\n",
    "These are just some of the techniques that can be used to reduce memory usage during CNN training. The best approach will depend on the specific model, dataset, and hardware being used, and may require experimentation to find the optimal solution."
   ]
  },
  {
   "cell_type": "markdown",
   "id": "782028c5-6588-4c3d-a3e8-2e38e2e58930",
   "metadata": {
    "id": "782028c5-6588-4c3d-a3e8-2e38e2e58930"
   },
   "source": [
    "**4. Why would you want to add a max pooling layer rather than a convolutional layer with the\n",
    "same stride?**\n",
    "\n",
    "**Ans:** Max pooling layers and convolutional layers with the same stride both reduce the spatial resolution of the feature maps. However, there are some reasons why one might want to use max pooling instead of convolution:\n",
    "\n",
    "1. Non-linearity: Max pooling introduces a non-linear activation function that can help the network learn more complex features. In contrast, a convolutional layer with the same stride only applies a linear transformation to the input.\n",
    "\n",
    "2. Translation invariance: Max pooling is more translation invariant than convolution with stride. This means that the features learned by the network are less sensitive to small shifts in the input image, which can improve the robustness of the network to small variations in the data.\n",
    "\n",
    "3. Computational efficiency: Max pooling is computationally more efficient than convolution with the same stride because it does not require any learnable parameters.\n",
    "\n",
    "4. Reduce overfitting: Max pooling can be used to reduce overfitting by reducing the spatial resolution of the feature maps and introducing some degree of spatial invariance.\n",
    "\n",
    "Overall, max pooling can be a useful tool for reducing the spatial resolution of feature maps while introducing non-linearity, translation invariance, and computational efficiency. However, the choice between max pooling and convolution with the same stride will depend on the specific requirements of the model and the data."
   ]
  },
  {
   "cell_type": "markdown",
   "id": "9bd38c00-8f73-40f8-9fa5-def34ae99f97",
   "metadata": {
    "id": "9bd38c00-8f73-40f8-9fa5-def34ae99f97"
   },
   "source": [
    "**5. When would you want to add a local response normalization layer?**\n",
    "\n",
    "**Ans:** A local response normalization (LRN) layer can be added to a CNN to improve its generalization performance by promoting competition among feature maps. The main purpose of LRN is to normalize the response of a neuron by dividing it by the sum of squares of its neighboring activations.\n",
    "\n",
    "Here are some scenarios when one may want to add a local response normalization layer to a CNN:\n",
    "\n",
    "1. Large-scale datasets: LRN is more effective on large-scale datasets as it helps the network generalize better and reduce overfitting. When working with large-scale datasets, adding an LRN layer can improve the performance of the network.\n",
    "\n",
    "2. Convolutional layers with large receptive fields: When the receptive field of a convolutional layer is large, there is a high chance that some feature maps will respond strongly to stimuli that are irrelevant to the target object. In such cases, LRN can help the network suppress the irrelevant feature maps and promote the relevant ones.\n",
    "\n",
    "3. Networks with multiple convolutional layers: When working with CNNs with multiple convolutional layers, adding an LRN layer can help the network learn more robust features by encouraging competition among feature maps. This can help prevent the network from overfitting to the training data.\n",
    "\n",
    "4. Image classification tasks: LRN has been shown to be particularly effective in improving the performance of CNNs on image classification tasks. It can help the network learn more discriminative features, which in turn can improve its classification accuracy.\n",
    "\n",
    "Overall, adding a local response normalization layer to a CNN can be useful in scenarios where there is a need to improve the generalization performance of the network or promote competition among feature maps. However, the decision to add an LRN layer will depend on the specific requirements of the model and the data."
   ]
  },
  {
   "cell_type": "markdown",
   "id": "7f3f3afa-fc4f-432c-a61c-a10b290148fc",
   "metadata": {
    "id": "7f3f3afa-fc4f-432c-a61c-a10b290148fc"
   },
   "source": [
    "**6. Can you name the main innovations in AlexNet, compared to LeNet-5? What about the main innovations in GoogLeNet, ResNet, SENet, and Xception?**\n",
    "\n",
    "**Ans:** here are the main innovations in each of the listed models:\n",
    "\n",
    "AlexNet:\n",
    "\n",
    "* AlexNet was one of the first successful deep convolutional neural networks for image classification.\n",
    "* It had 5 convolutional layers and 3 fully connected layers.\n",
    "* AlexNet used Rectified Linear Units (ReLU) activation function instead of the traditional sigmoid activation function used in LeNet-5.\n",
    "* It also used data augmentation techniques such as cropping and flipping to reduce overfitting and increase the size of the training dataset.\n",
    "* AlexNet used dropout regularization to further reduce overfitting.\n",
    "* AlexNet was trained on two GPUs simultaneously, which reduced the training time significantly.\n",
    "\n",
    "GoogLeNet:\n",
    "\n",
    "* GoogLeNet introduced the concept of Inception modules, which allowed for the efficient use of multiple filter sizes in a single layer.\n",
    "* It had 22 layers and was the first network to exceed human-level performance on the ImageNet classification task.\n",
    "* GoogLeNet also used global average pooling instead of fully connected layers, which significantly reduced the number of parameters in the network.\n",
    "* It used a 1x1 convolutional layer to reduce the dimensionality of the feature maps before applying more computationally expensive convolutional layers.\n",
    "\n",
    "ResNet:\n",
    "\n",
    "* ResNet introduced the concept of residual blocks, which allowed for the training of very deep networks without suffering from the problem of vanishing gradients.\n",
    "* It had up to 152 layers and achieved state-of-the-art performance on several computer vision tasks.\n",
    "* ResNet used skip connections to connect earlier layers directly to later layers, which helped to propagate gradients more effectively during training.\n",
    "* It also used batch normalization to accelerate training and improve generalization.\n",
    "\n",
    "SENet:\n",
    "\n",
    "* SENet introduced the concept of Squeeze-and-Excitation (SE) blocks, which allowed the network to adaptively recalibrate the importance of each feature map based on the global context of the image.\n",
    "* It achieved state-of-the-art performance on several computer vision tasks.\n",
    "* SENet used a global average pooling layer to reduce the dimensionality of the feature maps before applying the SE blocks.\n",
    "* It also used residual connections to help propagate gradients more effectively during training.\n",
    "\n",
    "Xception:\n",
    "\n",
    "* Xception introduced the concept of depthwise separable convolutions, which separate the spatial filtering and channel-wise filtering operations.\n",
    "* It had fewer parameters and was more computationally efficient than other state-of-the-art models while achieving comparable or better performance.\n",
    "* Xception used residual connections and batch normalization to accelerate training and improve generalization.\n",
    "* It also used global average pooling instead of fully connected layers to reduce the number of parameters in the network.\n",
    "\n",
    "These are just a few of the innovations introduced in each of these models. There have been many other contributions to the field of deep learning for computer vision, each building upon the successes of the previous models."
   ]
  },
  {
   "cell_type": "markdown",
   "id": "a6857970-24c5-4efe-8137-85b9e837ac46",
   "metadata": {
    "id": "a6857970-24c5-4efe-8137-85b9e837ac46"
   },
   "source": [
    "**7. What is a fully convolutional network? How can you convert a dense layer into a\n",
    "convolutional layer?**\n",
    "\n",
    "**Ans:** A fully convolutional network (FCN) is a neural network architecture that consists entirely of convolutional layers, and no fully connected layers. FCNs are commonly used in image segmentation tasks, where the output is a pixel-wise classification map instead of a single label.\n",
    "\n",
    "To convert a dense layer into a convolutional layer, we need to ensure that the output shape of the convolutional layer is the same as the output shape of the dense layer. We can achieve this by reshaping the weights of the dense layer into the shape of a convolutional kernel.\n",
    "\n",
    "For example, suppose we have a dense layer with 512 units that takes as input a feature map of size 7x7x256, and we want to convert it into a convolutional layer with a 3x3 kernel. We can do this as follows:\n",
    "\n",
    "1. Reshape the weight matrix of the dense layer to have shape (3, 3, 256, 512). This will create a 3x3 convolutional kernel with 256 input channels and 512 output channels.\n",
    "\n",
    "2. Reshape the output of the previous convolutional layer to have shape (batch_size, 7, 7, 256). This is the same shape as the input to the dense layer.\n",
    "\n",
    "3. Apply the convolution operation with the reshaped kernel to the output of the previous convolutional layer. The output of this operation will have shape (batch_size, 5, 5, 512), which is the same as the output of the dense layer.\n",
    "\n",
    "By converting a dense layer into a convolutional layer in this way, we can include it in a fully convolutional network and take advantage of the benefits of convolutional layers, such as weight sharing and translation invariance."
   ]
  },
  {
   "cell_type": "markdown",
   "id": "a2d50681-2ac2-42d1-a7bc-63da5dde8835",
   "metadata": {
    "id": "a2d50681-2ac2-42d1-a7bc-63da5dde8835"
   },
   "source": [
    "**8. What is the main technical difficulty of semantic segmentation?**\n",
    "\n",
    "**Ans:** The main technical difficulty of semantic segmentation is to accurately classify each pixel in an image into one of the pre-defined classes (e.g. person, car, tree, sky, etc.). This is a challenging task because it requires the network to learn both the spatial information and the semantic information of the image.\n",
    "\n",
    "Spatial information refers to the location and arrangement of objects in the image, which is important for distinguishing between adjacent objects or objects that overlap. Semantic information refers to the high-level concepts and meaning of the objects in the image, which is important for distinguishing between objects of the same type (e.g. different types of trees).\n",
    "\n",
    "Another difficulty is handling the class imbalance problem, where some classes have much fewer pixels than others. This can lead to a bias towards the majority classes and poor performance on minority classes.\n",
    "\n",
    "To overcome these difficulties, various techniques have been proposed, including the use of encoder-decoder architectures, skip connections, multi-scale features, dilated convolutions, and data augmentation."
   ]
  },
  {
   "cell_type": "markdown",
   "id": "353a3c9c-2fb9-4db7-b0e0-5ae5d3a16d54",
   "metadata": {
    "id": "353a3c9c-2fb9-4db7-b0e0-5ae5d3a16d54",
    "tags": []
   },
   "source": [
    "**9. Build your own CNN from scratch and try to achieve the highest possible accuracy on MNIST.**\n",
    "\n",
    "**Ans:** "
   ]
  },
  {
   "cell_type": "code",
   "execution_count": 6,
   "id": "ad8f72fc-8cbe-4a2f-8884-3523c4a6f167",
   "metadata": {
    "id": "ad8f72fc-8cbe-4a2f-8884-3523c4a6f167",
    "tags": []
   },
   "outputs": [],
   "source": [
    "import tensorflow as tf\n",
    "from tensorflow.keras.models import Sequential\n",
    "from tensorflow.keras.layers import Conv2D, MaxPooling2D, Flatten, Dense, Dropout\n",
    "from tensorflow.keras.optimizers import Adam\n",
    "from tensorflow.keras.datasets import mnist\n",
    "from tensorflow.keras.utils import to_categorical\n",
    "import matplotlib.pyplot as plt"
   ]
  },
  {
   "cell_type": "code",
   "execution_count": 2,
   "id": "4a2e39a3-550a-421d-b514-57056162c22d",
   "metadata": {
    "id": "4a2e39a3-550a-421d-b514-57056162c22d",
    "tags": []
   },
   "outputs": [
    {
     "name": "stdout",
     "output_type": "stream",
     "text": [
      "Downloading data from https://storage.googleapis.com/tensorflow/tf-keras-datasets/mnist.npz\n",
      "\u001b[1m11490434/11490434\u001b[0m \u001b[32m━━━━━━━━━━━━━━━━━━━━\u001b[0m\u001b[37m\u001b[0m \u001b[1m3s\u001b[0m 0us/step\n"
     ]
    }
   ],
   "source": [
    "# Load the MNIST dataset\n",
    "(x_train, y_train), (x_test, y_test) = tf.keras.datasets.mnist.load_data()"
   ]
  },
  {
   "cell_type": "code",
   "execution_count": 4,
   "id": "fe512564-925c-4806-84b5-d2d648b00db5",
   "metadata": {
    "id": "fe512564-925c-4806-84b5-d2d648b00db5",
    "tags": []
   },
   "outputs": [],
   "source": [
    "# Normalize the pixel values to the range [0, 1]\n",
    "x_train = x_train.astype(\"float32\") / 255.0\n",
    "x_test = x_test.astype(\"float32\") / 255.0"
   ]
  },
  {
   "cell_type": "code",
   "execution_count": 5,
   "id": "8b20146a-150b-4fe6-8830-c117521f75e0",
   "metadata": {},
   "outputs": [
    {
     "name": "stdout",
     "output_type": "stream",
     "text": [
      "(60000, 28, 28) (10000, 28, 28)\n"
     ]
    }
   ],
   "source": [
    "print(x_train.shape, x_test.shape)"
   ]
  },
  {
   "cell_type": "code",
   "execution_count": 8,
   "id": "c668134e-e1c5-45c9-87d9-ea8622f82c28",
   "metadata": {
    "id": "c668134e-e1c5-45c9-87d9-ea8622f82c28",
    "tags": []
   },
   "outputs": [],
   "source": [
    "# Reshape to include channel dimension (needed for Conv2D)\n",
    "X_train = x_train.reshape(-1, 28, 28, 1)\n",
    "X_test = x_test.reshape(-1, 28, 28, 1)"
   ]
  },
  {
   "cell_type": "code",
   "execution_count": 9,
   "id": "c4f96f44-c20d-4e20-a621-dc1799d1570e",
   "metadata": {},
   "outputs": [
    {
     "name": "stdout",
     "output_type": "stream",
     "text": [
      "(60000, 28, 28, 1) (10000, 28, 28, 1)\n"
     ]
    }
   ],
   "source": [
    "print(X_train.shape, X_test.shape)"
   ]
  },
  {
   "cell_type": "code",
   "execution_count": 11,
   "id": "21c444c6-5c1f-421e-b98b-680395f4f2fe",
   "metadata": {},
   "outputs": [],
   "source": [
    "# Convert labels to one-hot encoding\n",
    "y_train = to_categorical(y_train, 10)\n",
    "y_test = to_categorical(y_test, 10)"
   ]
  },
  {
   "cell_type": "code",
   "execution_count": 10,
   "id": "525df700-256e-475e-b260-66f2bf0136ed",
   "metadata": {},
   "outputs": [],
   "source": [
    "def build_model():\n",
    "    model = Sequential()\n",
    "    model.add(Conv2D(32, kernel_size=(3, 3), activation='relu', input_shape=(28, 28, 1)))\n",
    "    model.add(Conv2D(64, kernel_size=(3, 3), activation='relu'))\n",
    "    model.add(MaxPooling2D(pool_size=(2, 2)))\n",
    "    model.add(Dropout(0.25))\n",
    "    model.add(Flatten())\n",
    "    model.add(Dense(128, activation='relu'))\n",
    "    model.add(Dropout(0.5))\n",
    "    model.add(Dense(10, activation='softmax'))\n",
    "    \n",
    "    return model"
   ]
  },
  {
   "cell_type": "code",
   "execution_count": 12,
   "id": "098a50e8-da2d-460d-be51-379c64a33a46",
   "metadata": {
    "id": "098a50e8-da2d-460d-be51-379c64a33a46",
    "tags": []
   },
   "outputs": [
    {
     "name": "stderr",
     "output_type": "stream",
     "text": [
      "E:\\anacondaInstalledHere\\Lib\\site-packages\\keras\\src\\layers\\convolutional\\base_conv.py:107: UserWarning: Do not pass an `input_shape`/`input_dim` argument to a layer. When using Sequential models, prefer using an `Input(shape)` object as the first layer in the model instead.\n",
      "  super().__init__(activity_regularizer=activity_regularizer, **kwargs)\n"
     ]
    }
   ],
   "source": [
    "model = build_model()\n",
    "model.compile(loss='categorical_crossentropy',\n",
    "              optimizer=Adam(),\n",
    "              metrics=['accuracy'])"
   ]
  },
  {
   "cell_type": "code",
   "execution_count": 13,
   "id": "0801e1cf-55f3-4cd6-80e8-b50c3762415d",
   "metadata": {},
   "outputs": [
    {
     "data": {
      "text/html": [
       "<pre style=\"white-space:pre;overflow-x:auto;line-height:normal;font-family:Menlo,'DejaVu Sans Mono',consolas,'Courier New',monospace\"><span style=\"font-weight: bold\">Model: \"sequential\"</span>\n",
       "</pre>\n"
      ],
      "text/plain": [
       "\u001b[1mModel: \"sequential\"\u001b[0m\n"
      ]
     },
     "metadata": {},
     "output_type": "display_data"
    },
    {
     "data": {
      "text/html": [
       "<pre style=\"white-space:pre;overflow-x:auto;line-height:normal;font-family:Menlo,'DejaVu Sans Mono',consolas,'Courier New',monospace\">┏━━━━━━━━━━━━━━━━━━━━━━━━━━━━━━━━━━━━━━┳━━━━━━━━━━━━━━━━━━━━━━━━━━━━━┳━━━━━━━━━━━━━━━━━┓\n",
       "┃<span style=\"font-weight: bold\"> Layer (type)                         </span>┃<span style=\"font-weight: bold\"> Output Shape                </span>┃<span style=\"font-weight: bold\">         Param # </span>┃\n",
       "┡━━━━━━━━━━━━━━━━━━━━━━━━━━━━━━━━━━━━━━╇━━━━━━━━━━━━━━━━━━━━━━━━━━━━━╇━━━━━━━━━━━━━━━━━┩\n",
       "│ conv2d (<span style=\"color: #0087ff; text-decoration-color: #0087ff\">Conv2D</span>)                      │ (<span style=\"color: #00d7ff; text-decoration-color: #00d7ff\">None</span>, <span style=\"color: #00af00; text-decoration-color: #00af00\">26</span>, <span style=\"color: #00af00; text-decoration-color: #00af00\">26</span>, <span style=\"color: #00af00; text-decoration-color: #00af00\">32</span>)          │             <span style=\"color: #00af00; text-decoration-color: #00af00\">320</span> │\n",
       "├──────────────────────────────────────┼─────────────────────────────┼─────────────────┤\n",
       "│ conv2d_1 (<span style=\"color: #0087ff; text-decoration-color: #0087ff\">Conv2D</span>)                    │ (<span style=\"color: #00d7ff; text-decoration-color: #00d7ff\">None</span>, <span style=\"color: #00af00; text-decoration-color: #00af00\">24</span>, <span style=\"color: #00af00; text-decoration-color: #00af00\">24</span>, <span style=\"color: #00af00; text-decoration-color: #00af00\">64</span>)          │          <span style=\"color: #00af00; text-decoration-color: #00af00\">18,496</span> │\n",
       "├──────────────────────────────────────┼─────────────────────────────┼─────────────────┤\n",
       "│ max_pooling2d (<span style=\"color: #0087ff; text-decoration-color: #0087ff\">MaxPooling2D</span>)         │ (<span style=\"color: #00d7ff; text-decoration-color: #00d7ff\">None</span>, <span style=\"color: #00af00; text-decoration-color: #00af00\">12</span>, <span style=\"color: #00af00; text-decoration-color: #00af00\">12</span>, <span style=\"color: #00af00; text-decoration-color: #00af00\">64</span>)          │               <span style=\"color: #00af00; text-decoration-color: #00af00\">0</span> │\n",
       "├──────────────────────────────────────┼─────────────────────────────┼─────────────────┤\n",
       "│ dropout (<span style=\"color: #0087ff; text-decoration-color: #0087ff\">Dropout</span>)                    │ (<span style=\"color: #00d7ff; text-decoration-color: #00d7ff\">None</span>, <span style=\"color: #00af00; text-decoration-color: #00af00\">12</span>, <span style=\"color: #00af00; text-decoration-color: #00af00\">12</span>, <span style=\"color: #00af00; text-decoration-color: #00af00\">64</span>)          │               <span style=\"color: #00af00; text-decoration-color: #00af00\">0</span> │\n",
       "├──────────────────────────────────────┼─────────────────────────────┼─────────────────┤\n",
       "│ flatten (<span style=\"color: #0087ff; text-decoration-color: #0087ff\">Flatten</span>)                    │ (<span style=\"color: #00d7ff; text-decoration-color: #00d7ff\">None</span>, <span style=\"color: #00af00; text-decoration-color: #00af00\">9216</span>)                │               <span style=\"color: #00af00; text-decoration-color: #00af00\">0</span> │\n",
       "├──────────────────────────────────────┼─────────────────────────────┼─────────────────┤\n",
       "│ dense (<span style=\"color: #0087ff; text-decoration-color: #0087ff\">Dense</span>)                        │ (<span style=\"color: #00d7ff; text-decoration-color: #00d7ff\">None</span>, <span style=\"color: #00af00; text-decoration-color: #00af00\">128</span>)                 │       <span style=\"color: #00af00; text-decoration-color: #00af00\">1,179,776</span> │\n",
       "├──────────────────────────────────────┼─────────────────────────────┼─────────────────┤\n",
       "│ dropout_1 (<span style=\"color: #0087ff; text-decoration-color: #0087ff\">Dropout</span>)                  │ (<span style=\"color: #00d7ff; text-decoration-color: #00d7ff\">None</span>, <span style=\"color: #00af00; text-decoration-color: #00af00\">128</span>)                 │               <span style=\"color: #00af00; text-decoration-color: #00af00\">0</span> │\n",
       "├──────────────────────────────────────┼─────────────────────────────┼─────────────────┤\n",
       "│ dense_1 (<span style=\"color: #0087ff; text-decoration-color: #0087ff\">Dense</span>)                      │ (<span style=\"color: #00d7ff; text-decoration-color: #00d7ff\">None</span>, <span style=\"color: #00af00; text-decoration-color: #00af00\">10</span>)                  │           <span style=\"color: #00af00; text-decoration-color: #00af00\">1,290</span> │\n",
       "└──────────────────────────────────────┴─────────────────────────────┴─────────────────┘\n",
       "</pre>\n"
      ],
      "text/plain": [
       "┏━━━━━━━━━━━━━━━━━━━━━━━━━━━━━━━━━━━━━━┳━━━━━━━━━━━━━━━━━━━━━━━━━━━━━┳━━━━━━━━━━━━━━━━━┓\n",
       "┃\u001b[1m \u001b[0m\u001b[1mLayer (type)                        \u001b[0m\u001b[1m \u001b[0m┃\u001b[1m \u001b[0m\u001b[1mOutput Shape               \u001b[0m\u001b[1m \u001b[0m┃\u001b[1m \u001b[0m\u001b[1m        Param #\u001b[0m\u001b[1m \u001b[0m┃\n",
       "┡━━━━━━━━━━━━━━━━━━━━━━━━━━━━━━━━━━━━━━╇━━━━━━━━━━━━━━━━━━━━━━━━━━━━━╇━━━━━━━━━━━━━━━━━┩\n",
       "│ conv2d (\u001b[38;5;33mConv2D\u001b[0m)                      │ (\u001b[38;5;45mNone\u001b[0m, \u001b[38;5;34m26\u001b[0m, \u001b[38;5;34m26\u001b[0m, \u001b[38;5;34m32\u001b[0m)          │             \u001b[38;5;34m320\u001b[0m │\n",
       "├──────────────────────────────────────┼─────────────────────────────┼─────────────────┤\n",
       "│ conv2d_1 (\u001b[38;5;33mConv2D\u001b[0m)                    │ (\u001b[38;5;45mNone\u001b[0m, \u001b[38;5;34m24\u001b[0m, \u001b[38;5;34m24\u001b[0m, \u001b[38;5;34m64\u001b[0m)          │          \u001b[38;5;34m18,496\u001b[0m │\n",
       "├──────────────────────────────────────┼─────────────────────────────┼─────────────────┤\n",
       "│ max_pooling2d (\u001b[38;5;33mMaxPooling2D\u001b[0m)         │ (\u001b[38;5;45mNone\u001b[0m, \u001b[38;5;34m12\u001b[0m, \u001b[38;5;34m12\u001b[0m, \u001b[38;5;34m64\u001b[0m)          │               \u001b[38;5;34m0\u001b[0m │\n",
       "├──────────────────────────────────────┼─────────────────────────────┼─────────────────┤\n",
       "│ dropout (\u001b[38;5;33mDropout\u001b[0m)                    │ (\u001b[38;5;45mNone\u001b[0m, \u001b[38;5;34m12\u001b[0m, \u001b[38;5;34m12\u001b[0m, \u001b[38;5;34m64\u001b[0m)          │               \u001b[38;5;34m0\u001b[0m │\n",
       "├──────────────────────────────────────┼─────────────────────────────┼─────────────────┤\n",
       "│ flatten (\u001b[38;5;33mFlatten\u001b[0m)                    │ (\u001b[38;5;45mNone\u001b[0m, \u001b[38;5;34m9216\u001b[0m)                │               \u001b[38;5;34m0\u001b[0m │\n",
       "├──────────────────────────────────────┼─────────────────────────────┼─────────────────┤\n",
       "│ dense (\u001b[38;5;33mDense\u001b[0m)                        │ (\u001b[38;5;45mNone\u001b[0m, \u001b[38;5;34m128\u001b[0m)                 │       \u001b[38;5;34m1,179,776\u001b[0m │\n",
       "├──────────────────────────────────────┼─────────────────────────────┼─────────────────┤\n",
       "│ dropout_1 (\u001b[38;5;33mDropout\u001b[0m)                  │ (\u001b[38;5;45mNone\u001b[0m, \u001b[38;5;34m128\u001b[0m)                 │               \u001b[38;5;34m0\u001b[0m │\n",
       "├──────────────────────────────────────┼─────────────────────────────┼─────────────────┤\n",
       "│ dense_1 (\u001b[38;5;33mDense\u001b[0m)                      │ (\u001b[38;5;45mNone\u001b[0m, \u001b[38;5;34m10\u001b[0m)                  │           \u001b[38;5;34m1,290\u001b[0m │\n",
       "└──────────────────────────────────────┴─────────────────────────────┴─────────────────┘\n"
      ]
     },
     "metadata": {},
     "output_type": "display_data"
    },
    {
     "data": {
      "text/html": [
       "<pre style=\"white-space:pre;overflow-x:auto;line-height:normal;font-family:Menlo,'DejaVu Sans Mono',consolas,'Courier New',monospace\"><span style=\"font-weight: bold\"> Total params: </span><span style=\"color: #00af00; text-decoration-color: #00af00\">1,199,882</span> (4.58 MB)\n",
       "</pre>\n"
      ],
      "text/plain": [
       "\u001b[1m Total params: \u001b[0m\u001b[38;5;34m1,199,882\u001b[0m (4.58 MB)\n"
      ]
     },
     "metadata": {},
     "output_type": "display_data"
    },
    {
     "data": {
      "text/html": [
       "<pre style=\"white-space:pre;overflow-x:auto;line-height:normal;font-family:Menlo,'DejaVu Sans Mono',consolas,'Courier New',monospace\"><span style=\"font-weight: bold\"> Trainable params: </span><span style=\"color: #00af00; text-decoration-color: #00af00\">1,199,882</span> (4.58 MB)\n",
       "</pre>\n"
      ],
      "text/plain": [
       "\u001b[1m Trainable params: \u001b[0m\u001b[38;5;34m1,199,882\u001b[0m (4.58 MB)\n"
      ]
     },
     "metadata": {},
     "output_type": "display_data"
    },
    {
     "data": {
      "text/html": [
       "<pre style=\"white-space:pre;overflow-x:auto;line-height:normal;font-family:Menlo,'DejaVu Sans Mono',consolas,'Courier New',monospace\"><span style=\"font-weight: bold\"> Non-trainable params: </span><span style=\"color: #00af00; text-decoration-color: #00af00\">0</span> (0.00 B)\n",
       "</pre>\n"
      ],
      "text/plain": [
       "\u001b[1m Non-trainable params: \u001b[0m\u001b[38;5;34m0\u001b[0m (0.00 B)\n"
      ]
     },
     "metadata": {},
     "output_type": "display_data"
    }
   ],
   "source": [
    "model.summary()"
   ]
  },
  {
   "cell_type": "code",
   "execution_count": 14,
   "id": "1a1e18ae-912b-43f8-91a6-49b77e3709a6",
   "metadata": {
    "colab": {
     "base_uri": "https://localhost:8080/"
    },
    "id": "1a1e18ae-912b-43f8-91a6-49b77e3709a6",
    "outputId": "210b4a03-f0e9-4f98-fc37-9fbf9318a0c9",
    "tags": []
   },
   "outputs": [
    {
     "name": "stdout",
     "output_type": "stream",
     "text": [
      "Epoch 1/12\n",
      "\u001b[1m375/375\u001b[0m \u001b[32m━━━━━━━━━━━━━━━━━━━━\u001b[0m\u001b[37m\u001b[0m \u001b[1m49s\u001b[0m 109ms/step - accuracy: 0.8276 - loss: 0.5290 - val_accuracy: 0.9812 - val_loss: 0.0649\n",
      "Epoch 2/12\n",
      "\u001b[1m375/375\u001b[0m \u001b[32m━━━━━━━━━━━━━━━━━━━━\u001b[0m\u001b[37m\u001b[0m \u001b[1m47s\u001b[0m 124ms/step - accuracy: 0.9715 - loss: 0.0980 - val_accuracy: 0.9850 - val_loss: 0.0510\n",
      "Epoch 3/12\n",
      "\u001b[1m375/375\u001b[0m \u001b[32m━━━━━━━━━━━━━━━━━━━━\u001b[0m\u001b[37m\u001b[0m \u001b[1m53s\u001b[0m 140ms/step - accuracy: 0.9793 - loss: 0.0698 - val_accuracy: 0.9874 - val_loss: 0.0410\n",
      "Epoch 4/12\n",
      "\u001b[1m375/375\u001b[0m \u001b[32m━━━━━━━━━━━━━━━━━━━━\u001b[0m\u001b[37m\u001b[0m \u001b[1m50s\u001b[0m 132ms/step - accuracy: 0.9824 - loss: 0.0573 - val_accuracy: 0.9869 - val_loss: 0.0458\n",
      "Epoch 5/12\n",
      "\u001b[1m375/375\u001b[0m \u001b[32m━━━━━━━━━━━━━━━━━━━━\u001b[0m\u001b[37m\u001b[0m \u001b[1m44s\u001b[0m 117ms/step - accuracy: 0.9847 - loss: 0.0472 - val_accuracy: 0.9888 - val_loss: 0.0408\n",
      "Epoch 6/12\n",
      "\u001b[1m375/375\u001b[0m \u001b[32m━━━━━━━━━━━━━━━━━━━━\u001b[0m\u001b[37m\u001b[0m \u001b[1m46s\u001b[0m 123ms/step - accuracy: 0.9877 - loss: 0.0394 - val_accuracy: 0.9887 - val_loss: 0.0361\n",
      "Epoch 7/12\n",
      "\u001b[1m375/375\u001b[0m \u001b[32m━━━━━━━━━━━━━━━━━━━━\u001b[0m\u001b[37m\u001b[0m \u001b[1m60s\u001b[0m 160ms/step - accuracy: 0.9888 - loss: 0.0338 - val_accuracy: 0.9900 - val_loss: 0.0389\n",
      "Epoch 8/12\n",
      "\u001b[1m375/375\u001b[0m \u001b[32m━━━━━━━━━━━━━━━━━━━━\u001b[0m\u001b[37m\u001b[0m \u001b[1m59s\u001b[0m 156ms/step - accuracy: 0.9899 - loss: 0.0315 - val_accuracy: 0.9897 - val_loss: 0.0410\n",
      "Epoch 9/12\n",
      "\u001b[1m375/375\u001b[0m \u001b[32m━━━━━━━━━━━━━━━━━━━━\u001b[0m\u001b[37m\u001b[0m \u001b[1m58s\u001b[0m 154ms/step - accuracy: 0.9908 - loss: 0.0289 - val_accuracy: 0.9900 - val_loss: 0.0391\n",
      "Epoch 10/12\n",
      "\u001b[1m375/375\u001b[0m \u001b[32m━━━━━━━━━━━━━━━━━━━━\u001b[0m\u001b[37m\u001b[0m \u001b[1m66s\u001b[0m 175ms/step - accuracy: 0.9919 - loss: 0.0250 - val_accuracy: 0.9901 - val_loss: 0.0399\n",
      "Epoch 11/12\n",
      "\u001b[1m375/375\u001b[0m \u001b[32m━━━━━━━━━━━━━━━━━━━━\u001b[0m\u001b[37m\u001b[0m \u001b[1m67s\u001b[0m 178ms/step - accuracy: 0.9925 - loss: 0.0225 - val_accuracy: 0.9912 - val_loss: 0.0380\n",
      "Epoch 12/12\n",
      "\u001b[1m375/375\u001b[0m \u001b[32m━━━━━━━━━━━━━━━━━━━━\u001b[0m\u001b[37m\u001b[0m \u001b[1m53s\u001b[0m 141ms/step - accuracy: 0.9921 - loss: 0.0227 - val_accuracy: 0.9892 - val_loss: 0.0442\n"
     ]
    }
   ],
   "source": [
    "history = model.fit(X_train, y_train, batch_size=128, epochs=12, verbose=1, validation_split=0.2)"
   ]
  },
  {
   "cell_type": "code",
   "execution_count": 15,
   "id": "9ba64d27-71a8-4e8c-88fa-3f86c2ef0b01",
   "metadata": {
    "colab": {
     "base_uri": "https://localhost:8080/"
    },
    "id": "9ba64d27-71a8-4e8c-88fa-3f86c2ef0b01",
    "outputId": "d2ad7050-2492-45a8-a515-97caf1519849"
   },
   "outputs": [
    {
     "name": "stdout",
     "output_type": "stream",
     "text": [
      "Test loss: 0.028432220220565796\n",
      "Test accuracy: 0.9911999702453613\n"
     ]
    }
   ],
   "source": [
    "# Evaluate the model on the test set\n",
    "score = model.evaluate(X_test, y_test, verbose=0)\n",
    "print('Test loss:', score[0])\n",
    "print('Test accuracy:', score[1])"
   ]
  },
  {
   "cell_type": "code",
   "execution_count": 16,
   "id": "4d73f6cf-b20d-43fe-aa03-2726a855d353",
   "metadata": {},
   "outputs": [
    {
     "data": {
      "image/png": "[encoded data removed]",
      "text/plain": [
       "<Figure size 1200x400 with 2 Axes>"
      ]
     },
     "metadata": {},
     "output_type": "display_data"
    }
   ],
   "source": [
    "# Plot training & validation accuracy values\n",
    "plt.figure(figsize=(12, 4))\n",
    "plt.subplot(1, 2, 1)\n",
    "plt.plot(history.history['accuracy'])\n",
    "plt.plot(history.history['val_accuracy'])\n",
    "plt.title('Model accuracy')\n",
    "plt.xlabel('Epoch')\n",
    "plt.ylabel('Accuracy')\n",
    "plt.legend(['Train', 'Validation'], loc='upper left')\n",
    "\n",
    "# Plot training & validation loss values\n",
    "plt.subplot(1, 2, 2)\n",
    "plt.plot(history.history['loss'])\n",
    "plt.plot(history.history['val_loss'])\n",
    "plt.title('Model loss')\n",
    "plt.xlabel('Epoch')\n",
    "plt.ylabel('Loss')\n",
    "plt.legend(['Train', 'Validation'], loc='upper left')\n",
    "\n",
    "plt.show()"
   ]
  },
  {
   "cell_type": "markdown",
   "id": "466c8229-749c-4516-9774-8c05884f78fd",
   "metadata": {
    "id": "466c8229-749c-4516-9774-8c05884f78fd"
   },
   "source": [
    "**10. Use transfer learning for large image classification, going through these steps:**\n",
    "\n",
    "**a. Create a training set containing at least 100 images per class. For example, you could classify your own pictures based on the location (beach, mountain, city, etc.), or\n",
    "alternatively you can use an existing dataset (e.g., from TensorFlow Datasets).**\n",
    "\n",
    "**b. Split it into a training set, a validation set, and a test set.**\n",
    "\n",
    "**c. Build the input pipeline, including the appropriate preprocessing operations, and optionally add data augmentation.**\n",
    "\n",
    "**d. Fine-tune a pretrained model on this dataset.**"
   ]
  },
  {
   "cell_type": "markdown",
   "id": "7a4b9e08-377d-4d01-9bdc-dd85378c8c84",
   "metadata": {
    "id": "7a4b9e08-377d-4d01-9bdc-dd85378c8c84"
   },
   "source": [
    "**Ans:** **a. Create a training set containing at least 100 images per class. For example, you could classify your own pictures based on the location (beach, mountain, city, etc.), or alternatively you can use an existing dataset (e.g., from TensorFlow Datasets).**\n",
    "\n",
    "**Ans:** **b. Split it into a training set, a validation set, and a test set.**"
   ]
  },
  {
   "cell_type": "code",
   "execution_count": 50,
   "id": "d9f21aae-559c-4813-bc7b-43ae16743cfe",
   "metadata": {},
   "outputs": [],
   "source": [
    "import tensorflow as tf\n",
    "import tensorflow_datasets as tfds\n",
    "import os"
   ]
  },
  {
   "cell_type": "code",
   "execution_count": 51,
   "id": "8ff26970-0aab-4828-8205-fd32a91dcb2c",
   "metadata": {},
   "outputs": [],
   "source": [
    "# Load the tf_flowers dataset with specified splits\n",
    "(ds_train, ds_test, ds_val), ds_info = tfds.load(\n",
    "    'tf_flowers',\n",
    "    split=['train[:80%]', 'train[80%:90%]', 'train[90%:]'],\n",
    "    as_supervised=True,\n",
    "    with_info=True\n",
    ")"
   ]
  },
  {
   "cell_type": "code",
   "execution_count": 52,
   "id": "36f6924c-64c8-456e-af17-2451bae08dc0",
   "metadata": {},
   "outputs": [],
   "source": [
    "# Define the target directories to store the datasets\n",
    "train_dir = 'train_set'\n",
    "val_dir = 'val_set'\n",
    "test_dir = 'test_set'\n",
    "\n",
    "# Create target directories if they don't exist\n",
    "for directory in [train_dir, val_dir, test_dir]:\n",
    "    if not os.path.exists(directory):\n",
    "        os.makedirs(directory)"
   ]
  },
  {
   "cell_type": "code",
   "execution_count": 54,
   "id": "bb799c54-7bfe-4a55-bca5-71ca34559b8e",
   "metadata": {},
   "outputs": [],
   "source": [
    "# Function to copy images to the specified directory\n",
    "def copy_images(dataset, target_dir):\n",
    "    class_counts = {}\n",
    "    for image, label in tfds.as_numpy(dataset):\n",
    "        class_name = ds_info.features['label'].int2str(label)\n",
    "        class_counts[class_name] = class_counts.get(class_name, 0) + 1\n",
    "        class_dir = os.path.join(target_dir, class_name)\n",
    "        os.makedirs(class_dir, exist_ok=True)\n",
    "        image_path = os.path.join(class_dir, f\"{class_name}_{class_counts[class_name]}.jpg\")\n",
    "        tf.keras.preprocessing.image.save_img(image_path, image)"
   ]
  },
  {
   "cell_type": "code",
   "execution_count": 55,
   "id": "0902aac9-e41c-4869-a393-80ff2d373dc8",
   "metadata": {},
   "outputs": [],
   "source": [
    "# Copy images to the training set directory\n",
    "copy_images(ds_train, train_dir)\n",
    "\n",
    "# Copy images to the validation set directory\n",
    "copy_images(ds_val, val_dir)\n",
    "\n",
    "# Copy images to the test set directory\n",
    "copy_images(ds_test, test_dir)"
   ]
  },
  {
   "cell_type": "code",
   "execution_count": 56,
   "id": "a6fc472e-680d-4aed-a107-90e6f08f4b65",
   "metadata": {},
   "outputs": [
    {
     "name": "stdout",
     "output_type": "stream",
     "text": [
      "Dataset splitting completed successfully.\n"
     ]
    }
   ],
   "source": [
    "print(\"Dataset splitting completed successfully.\")"
   ]
  },
  {
   "cell_type": "markdown",
   "id": "7884a834-9e9e-4090-ae39-962cb71ddfd4",
   "metadata": {},
   "source": [
    "**Ans:** **c. Build the input pipeline, including the appropriate preprocessing operations, and optionally add data augmentation.**"
   ]
  },
  {
   "cell_type": "code",
   "execution_count": 59,
   "id": "d751efd9-8076-4ec1-a415-4ee058f8f013",
   "metadata": {},
   "outputs": [],
   "source": [
    "# Build the input pipeline with preprocessing and optional data augmentation\n",
    "def preprocess_image(image, label):\n",
    "    image = tf.image.resize(image, (224, 224))  # Resize image to (224, 224)\n",
    "    image = tf.cast(image, tf.float32) / 255.0  # Normalize pixel values to [0, 1]\n",
    "    return image, label"
   ]
  },
  {
   "cell_type": "code",
   "execution_count": 60,
   "id": "c819986b-cc4e-4ec9-9cbb-52e2d1d4c340",
   "metadata": {},
   "outputs": [],
   "source": [
    "def augment_image(image, label):\n",
    "    image = tf.image.random_flip_left_right(image)  # Random horizontal flip\n",
    "    image = tf.image.random_brightness(image, max_delta=0.2)  # Random brightness adjustment\n",
    "    return image, label"
   ]
  },
  {
   "cell_type": "code",
   "execution_count": 61,
   "id": "16dc2c65-74ce-43f9-87c2-777f03a50e64",
   "metadata": {},
   "outputs": [],
   "source": [
    "AUTOTUNE = tf.data.experimental.AUTOTUNE\n",
    "\n",
    "# Apply preprocessing to the datasets\n",
    "ds_train = ds_train.map(preprocess_image, num_parallel_calls=AUTOTUNE)\n",
    "ds_val = ds_val.map(preprocess_image, num_parallel_calls=AUTOTUNE)\n",
    "ds_test = ds_test.map(preprocess_image, num_parallel_calls=AUTOTUNE)\n",
    "\n",
    "# Optionally apply data augmentation to the training set\n",
    "ds_train_augmented = ds_train.map(augment_image, num_parallel_calls=AUTOTUNE)\n",
    "\n"
   ]
  },
  {
   "cell_type": "code",
   "execution_count": 62,
   "id": "ab87a586-abda-48af-b02e-6b1a50a8ade4",
   "metadata": {},
   "outputs": [],
   "source": [
    "# Shuffle and batch the datasets\n",
    "BATCH_SIZE = 32\n",
    "SHUFFLE_BUFFER_SIZE = 1000\n",
    "\n",
    "ds_train = ds_train.shuffle(SHUFFLE_BUFFER_SIZE).batch(BATCH_SIZE).prefetch(buffer_size=AUTOTUNE)\n",
    "ds_val = ds_val.batch(BATCH_SIZE).prefetch(buffer_size=AUTOTUNE)\n",
    "ds_test = ds_test.batch(BATCH_SIZE).prefetch(buffer_size=AUTOTUNE)\n",
    "\n",
    "# Optionally shuffle and batch the augmented training set\n",
    "ds_train_augmented = ds_train_augmented.shuffle(SHUFFLE_BUFFER_SIZE).batch(BATCH_SIZE).prefetch(buffer_size=AUTOTUNE)"
   ]
  },
  {
   "cell_type": "markdown",
   "id": "805faa6c-f273-4c65-9ae9-f18a24c3f89f",
   "metadata": {},
   "source": [
    "**Ans:** **d. Fine-tune a pretrained model on this dataset.**"
   ]
  },
  {
   "cell_type": "code",
   "execution_count": 63,
   "id": "a7171fb0-c51d-490a-8710-5e4041b2aa94",
   "metadata": {},
   "outputs": [
    {
     "name": "stdout",
     "output_type": "stream",
     "text": [
      "Epoch 1/10\n",
      "\u001b[1m92/92\u001b[0m \u001b[32m━━━━━━━━━━━━━━━━━━━━\u001b[0m\u001b[37m\u001b[0m \u001b[1m93s\u001b[0m 874ms/step - accuracy: 0.5608 - loss: 1.1133 - val_accuracy: 0.8447 - val_loss: 0.4654\n",
      "Epoch 2/10\n",
      "\u001b[1m92/92\u001b[0m \u001b[32m━━━━━━━━━━━━━━━━━━━━\u001b[0m\u001b[37m\u001b[0m \u001b[1m77s\u001b[0m 833ms/step - accuracy: 0.8613 - loss: 0.4249 - val_accuracy: 0.8747 - val_loss: 0.3684\n",
      "Epoch 3/10\n",
      "\u001b[1m92/92\u001b[0m \u001b[32m━━━━━━━━━━━━━━━━━━━━\u001b[0m\u001b[37m\u001b[0m \u001b[1m80s\u001b[0m 872ms/step - accuracy: 0.8979 - loss: 0.3329 - val_accuracy: 0.8856 - val_loss: 0.3418\n",
      "Epoch 4/10\n",
      "\u001b[1m92/92\u001b[0m \u001b[32m━━━━━━━━━━━━━━━━━━━━\u001b[0m\u001b[37m\u001b[0m \u001b[1m78s\u001b[0m 849ms/step - accuracy: 0.9177 - loss: 0.2721 - val_accuracy: 0.8828 - val_loss: 0.3391\n",
      "Epoch 5/10\n",
      "\u001b[1m92/92\u001b[0m \u001b[32m━━━━━━━━━━━━━━━━━━━━\u001b[0m\u001b[37m\u001b[0m \u001b[1m76s\u001b[0m 830ms/step - accuracy: 0.9243 - loss: 0.2556 - val_accuracy: 0.9046 - val_loss: 0.3071\n",
      "Epoch 6/10\n",
      "\u001b[1m92/92\u001b[0m \u001b[32m━━━━━━━━━━━━━━━━━━━━\u001b[0m\u001b[37m\u001b[0m \u001b[1m78s\u001b[0m 840ms/step - accuracy: 0.9434 - loss: 0.2104 - val_accuracy: 0.9101 - val_loss: 0.2936\n",
      "Epoch 7/10\n",
      "\u001b[1m92/92\u001b[0m \u001b[32m━━━━━━━━━━━━━━━━━━━━\u001b[0m\u001b[37m\u001b[0m \u001b[1m77s\u001b[0m 833ms/step - accuracy: 0.9553 - loss: 0.1804 - val_accuracy: 0.8801 - val_loss: 0.3133\n",
      "Epoch 8/10\n",
      "\u001b[1m92/92\u001b[0m \u001b[32m━━━━━━━━━━━━━━━━━━━━\u001b[0m\u001b[37m\u001b[0m \u001b[1m79s\u001b[0m 857ms/step - accuracy: 0.9557 - loss: 0.1784 - val_accuracy: 0.8992 - val_loss: 0.2788\n",
      "Epoch 9/10\n",
      "\u001b[1m92/92\u001b[0m \u001b[32m━━━━━━━━━━━━━━━━━━━━\u001b[0m\u001b[37m\u001b[0m \u001b[1m77s\u001b[0m 832ms/step - accuracy: 0.9627 - loss: 0.1543 - val_accuracy: 0.9019 - val_loss: 0.2909\n",
      "Epoch 10/10\n",
      "\u001b[1m92/92\u001b[0m \u001b[32m━━━━━━━━━━━━━━━━━━━━\u001b[0m\u001b[37m\u001b[0m \u001b[1m77s\u001b[0m 834ms/step - accuracy: 0.9693 - loss: 0.1373 - val_accuracy: 0.9046 - val_loss: 0.2825\n"
     ]
    }
   ],
   "source": [
    "# Load a pre-trained model (e.g., MobileNetV2) with weights trained on ImageNet\n",
    "base_model = tf.keras.applications.MobileNetV2(input_shape=(224, 224, 3),\n",
    "                                               include_top=False,\n",
    "                                               weights='imagenet')\n",
    "\n",
    "# Freeze the base model layers\n",
    "base_model.trainable = False\n",
    "\n",
    "# Create a sequential model and add the base model\n",
    "model = tf.keras.Sequential([\n",
    "    base_model,\n",
    "    tf.keras.layers.GlobalAveragePooling2D(),\n",
    "    tf.keras.layers.Dense(5, activation='softmax')  # Assuming 5 classes for tf_flowers dataset\n",
    "])\n",
    "\n",
    "# Compile the model\n",
    "model.compile(optimizer='adam',\n",
    "              loss='sparse_categorical_crossentropy',\n",
    "              metrics=['accuracy'])\n",
    "\n",
    "# Train the model\n",
    "history = model.fit(ds_train,\n",
    "                    epochs=10,\n",
    "                    validation_data=ds_val)"
   ]
  },
  {
   "cell_type": "code",
   "execution_count": 64,
   "id": "b984b15f-40e8-42cc-9039-4c2770c5d2f5",
   "metadata": {},
   "outputs": [
    {
     "name": "stdout",
     "output_type": "stream",
     "text": [
      "\u001b[1m12/12\u001b[0m \u001b[32m━━━━━━━━━━━━━━━━━━━━\u001b[0m\u001b[37m\u001b[0m \u001b[1m8s\u001b[0m 697ms/step - accuracy: 0.9235 - loss: 0.2842\n",
      "Test accuracy: 0.9155313372612\n"
     ]
    }
   ],
   "source": [
    "# Evaluate the model on the test set\n",
    "test_loss, test_accuracy = model.evaluate(ds_test)\n",
    "print(f'Test accuracy: {test_accuracy}')"
   ]
  },
  {
   "cell_type": "code",
   "execution_count": null,
   "id": "545c74cf-db89-452a-973d-c1ac63bcf239",
   "metadata": {},
   "outputs": [],
   "source": []
  },
  {
   "cell_type": "code",
   "execution_count": null,
   "id": "90be6b9d-83de-431f-843c-d9b3d31e9c50",
   "metadata": {},
   "outputs": [],
   "source": []
  },
  {
   "cell_type": "code",
   "execution_count": null,
   "id": "e5185127-0988-4278-b371-b8b7a6d2bd13",
   "metadata": {},
   "outputs": [],
   "source": []
  },
  {
   "cell_type": "code",
   "execution_count": null,
   "id": "ac1074f7-dc1a-4571-b822-389017c6b02f",
   "metadata": {},
   "outputs": [],
   "source": []
  },
  {
   "cell_type": "code",
   "execution_count": null,
   "id": "24794342-6b65-43f7-a147-5ac170f55d9e",
   "metadata": {},
   "outputs": [],
   "source": []
  }
 ],
 "metadata": {
  "accelerator": "GPU",
  "colab": {
   "provenance": []
  },
  "gpuClass": "standard",
  "kernelspec": {
   "display_name": "Python 3 (ipykernel)",
   "language": "python",
   "name": "python3"
  },
  "language_info": {
   "codemirror_mode": {
    "name": "ipython",
    "version": 3
   },
   "file_extension": ".py",
   "mimetype": "text/x-python",
   "name": "python",
   "nbconvert_exporter": "python",
   "pygments_lexer": "ipython3",
   "version": "3.11.7"
  }
 },
 "nbformat": 4,
 "nbformat_minor": 5
}
